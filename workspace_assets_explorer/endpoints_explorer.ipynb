{
 "cells": [
  {
   "cell_type": "markdown",
   "metadata": {},
   "source": [
    "# Azure Machine Learning Endpoints Explorer\n",
    "\n",
    "## Before you start\n",
    "\n",
    "You'll need the latest version of the **azure-ai-ml** package to run the code in this notebook. Run the cell below to verify that it is installed.\n",
    "\n",
    "> **Note**:\n",
    "> If the **azure-ai-ml** package is not installed, run `pip install azure-ai-ml` to install it."
   ]
  },
  {
   "cell_type": "code",
   "execution_count": null,
   "metadata": {
    "tags": []
   },
   "outputs": [],
   "source": [
    "pip install azure-ai-ml azure-identity pandas mlflow==2.19.0 azureml-mlflow"
   ]
  },
  {
   "cell_type": "code",
   "execution_count": 1,
   "metadata": {
    "gather": {
     "logged": 1667393334445
    },
    "vscode": {
     "languageId": "python"
    }
   },
   "outputs": [
    {
     "name": "stdout",
     "output_type": "stream",
     "text": [
      "Name: azure-ai-ml\n",
      "Version: 1.24.0\n",
      "Summary: Microsoft Azure Machine Learning Client Library for Python\n",
      "Home-page: https://github.com/Azure/azure-sdk-for-python\n",
      "Author: Microsoft Corporation\n",
      "Author-email: azuresdkengsysadmins@microsoft.com\n",
      "License: MIT License\n",
      "Location: /anaconda/envs/azureml_py38/lib/python3.10/site-packages\n",
      "Requires: azure-common, azure-core, azure-mgmt-core, azure-monitor-opentelemetry, azure-storage-blob, azure-storage-file-datalake, azure-storage-file-share, colorama, isodate, jsonschema, marshmallow, msrest, pydash, pyjwt, pyyaml, strictyaml, tqdm, typing-extensions\n",
      "Required-by: \n",
      "Note: you may need to restart the kernel to use updated packages.\n"
     ]
    }
   ],
   "source": [
    "pip show azure-ai-ml"
   ]
  },
  {
   "cell_type": "markdown",
   "metadata": {},
   "source": [
    "## Connect to your workspace\n",
    "\n",
    "With the required SDK packages installed, now you're ready to connect to your workspace.\n",
    "\n",
    "To connect to a workspace, we need identifier parameters - a subscription ID, resource group name, and workspace name. Since you're working with a compute instance, managed by Azure Machine Learning, you can use the default values to connect to the workspace."
   ]
  },
  {
   "cell_type": "code",
   "execution_count": 2,
   "metadata": {
    "gather": {
     "logged": 1667395050398
    },
    "vscode": {
     "languageId": "python"
    }
   },
   "outputs": [],
   "source": [
    "from azure.identity import DefaultAzureCredential, InteractiveBrowserCredential\n",
    "from azure.ai.ml import MLClient\n",
    "\n",
    "try:\n",
    "    credential = DefaultAzureCredential()\n",
    "    # Check if given credential can get token successfully.\n",
    "    credential.get_token(\"https://management.azure.com/.default\")\n",
    "except Exception as ex:\n",
    "    # Fall back to InteractiveBrowserCredential in case DefaultAzureCredential not work\n",
    "    credential = InteractiveBrowserCredential()"
   ]
  },
  {
   "cell_type": "code",
   "execution_count": 3,
   "metadata": {
    "vscode": {
     "languageId": "python"
    }
   },
   "outputs": [
    {
     "name": "stderr",
     "output_type": "stream",
     "text": [
      "Found the config file in: /config.json\n"
     ]
    }
   ],
   "source": [
    "# Get a handle to workspace\n",
    "ml_client = MLClient.from_config(credential=credential)"
   ]
  },
  {
   "cell_type": "markdown",
   "metadata": {
    "nteract": {
     "transient": {
      "deleting": false
     }
    }
   },
   "source": [
    "## List endpoints\n",
    "\n",
    "Although you can view all endpoints in the Studio, you can also list all endpoints using the SDK:"
   ]
  },
  {
   "cell_type": "code",
   "execution_count": 4,
   "metadata": {
    "collapsed": false,
    "gather": {
     "logged": 1667395563837
    },
    "jupyter": {
     "outputs_hidden": false,
     "source_hidden": false
    },
    "nteract": {
     "transient": {
      "deleting": false
     }
    },
    "vscode": {
     "languageId": "python"
    }
   },
   "outputs": [
    {
     "name": "stdout",
     "output_type": "stream",
     "text": [
      "endpoint-03311042808194\n",
      "endpoint-03311107622296\n"
     ]
    }
   ],
   "source": [
    "endpoints = ml_client.online_endpoints.list()\n",
    "endpoint_names = []\n",
    "for endpoint in endpoints:\n",
    "    print(endpoint.name)\n",
    "    endpoint_names.append(endpoint.name)"
   ]
  },
  {
   "cell_type": "code",
   "execution_count": 5,
   "metadata": {
    "tags": []
   },
   "outputs": [
    {
     "name": "stdout",
     "output_type": "stream",
     "text": [
      "['endpoint-03311042808194', 'endpoint-03311107622296']\n"
     ]
    }
   ],
   "source": [
    "print(endpoint_names)"
   ]
  },
  {
   "cell_type": "code",
   "execution_count": 6,
   "metadata": {
    "tags": []
   },
   "outputs": [
    {
     "name": "stdout",
     "output_type": "stream",
     "text": [
      "auth_mode: key\n",
      "description: Online endpoint for MLflow diabetes model\n",
      "id: /subscriptions/a647c11c-fe4c-43c4-b672-963b71adab36/resourceGroups/my-machine-learning-rg-eastus2-112024/providers/Microsoft.MachineLearningServices/workspaces/my-azure-ml-ws-eastus2-112024/onlineEndpoints/endpoint-03311042808194\n",
      "identity:\n",
      "  principal_id: ef77201b-12ea-441e-8c0e-da931193f163\n",
      "  tenant_id: c697ddb2-f98a-4c79-b26e-90e161d48098\n",
      "  type: system_assigned\n",
      "kind: Managed\n",
      "location: eastus2\n",
      "mirror_traffic: {}\n",
      "name: endpoint-03311042808194\n",
      "openapi_uri: https://endpoint-03311042808194.eastus2.inference.ml.azure.com/swagger.json\n",
      "properties:\n",
      "  AzureAsyncOperationUri: https://management.azure.com/subscriptions/a647c11c-fe4c-43c4-b672-963b71adab36/providers/Microsoft.MachineLearningServices/locations/eastus2/mfeOperationsStatus/oeidp:fa66a51a-bdd3-4dd4-9926-0e314c42d496:4af4c5c3-4b29-4886-ae9f-08906f36e8ea?api-version=2022-02-01-preview\n",
      "  azureml.onlineendpointid: /subscriptions/a647c11c-fe4c-43c4-b672-963b71adab36/resourcegroups/my-machine-learning-rg-eastus2-112024/providers/microsoft.machinelearningservices/workspaces/my-azure-ml-ws-eastus2-112024/onlineendpoints/endpoint-03311042808194\n",
      "  createdAt: 2025-03-31T10:42:29.863283+0000\n",
      "  createdBy: System Administrator\n",
      "  lastModifiedAt: 2025-03-31T10:53:34.594146+0000\n",
      "provisioning_state: Succeeded\n",
      "public_network_access: enabled\n",
      "scoring_uri: https://endpoint-03311042808194.eastus2.inference.ml.azure.com/score\n",
      "tags: {}\n",
      "traffic:\n",
      "  blue: 100\n",
      "\n"
     ]
    }
   ],
   "source": [
    "endpoints = ml_client.online_endpoints.list()\n",
    "for endpoint in endpoints:\n",
    "    print(endpoint)\n",
    "    break"
   ]
  },
  {
   "cell_type": "markdown",
   "metadata": {
    "nteract": {
     "transient": {
      "deleting": false
     }
    }
   },
   "source": [
    "## Get endpoint details\n",
    "\n",
    "If you want more information about a specific endpoint, you can explore the details using the SDK too."
   ]
  },
  {
   "cell_type": "code",
   "execution_count": 7,
   "metadata": {
    "collapsed": false,
    "gather": {
     "logged": 1667395538913
    },
    "jupyter": {
     "outputs_hidden": false,
     "source_hidden": false
    },
    "nteract": {
     "transient": {
      "deleting": false
     }
    },
    "vscode": {
     "languageId": "python"
    }
   },
   "outputs": [
    {
     "name": "stdout",
     "output_type": "stream",
     "text": [
      "{'blue': 100}\n",
      "https://endpoint-03311042808194.eastus2.inference.ml.azure.com/score\n"
     ]
    }
   ],
   "source": [
    "# Get the details for online endpoint\n",
    "endpoint = ml_client.online_endpoints.get(name=endpoint_names[0])\n",
    "\n",
    "# existing traffic details\n",
    "print(endpoint.traffic)\n",
    "\n",
    "# Get the scoring URI\n",
    "print(endpoint.scoring_uri)"
   ]
  },
  {
   "cell_type": "code",
   "execution_count": 8,
   "metadata": {
    "tags": []
   },
   "outputs": [
    {
     "name": "stdout",
     "output_type": "stream",
     "text": [
      "auth_mode: key\n",
      "description: Online endpoint for MLflow diabetes model\n",
      "id: /subscriptions/a647c11c-fe4c-43c4-b672-963b71adab36/resourceGroups/my-machine-learning-rg-eastus2-112024/providers/Microsoft.MachineLearningServices/workspaces/my-azure-ml-ws-eastus2-112024/onlineEndpoints/endpoint-03311042808194\n",
      "identity:\n",
      "  principal_id: ef77201b-12ea-441e-8c0e-da931193f163\n",
      "  tenant_id: c697ddb2-f98a-4c79-b26e-90e161d48098\n",
      "  type: system_assigned\n",
      "kind: Managed\n",
      "location: eastus2\n",
      "mirror_traffic: {}\n",
      "name: endpoint-03311042808194\n",
      "openapi_uri: https://endpoint-03311042808194.eastus2.inference.ml.azure.com/swagger.json\n",
      "properties:\n",
      "  AzureAsyncOperationUri: https://management.azure.com/subscriptions/a647c11c-fe4c-43c4-b672-963b71adab36/providers/Microsoft.MachineLearningServices/locations/eastus2/mfeOperationsStatus/oeidp:fa66a51a-bdd3-4dd4-9926-0e314c42d496:4af4c5c3-4b29-4886-ae9f-08906f36e8ea?api-version=2022-02-01-preview\n",
      "  azureml.onlineendpointid: /subscriptions/a647c11c-fe4c-43c4-b672-963b71adab36/resourcegroups/my-machine-learning-rg-eastus2-112024/providers/microsoft.machinelearningservices/workspaces/my-azure-ml-ws-eastus2-112024/onlineendpoints/endpoint-03311042808194\n",
      "  createdAt: 2025-03-31T10:42:29.863283+0000\n",
      "  createdBy: System Administrator\n",
      "  lastModifiedAt: 2025-03-31T10:53:34.594146+0000\n",
      "provisioning_state: Succeeded\n",
      "public_network_access: enabled\n",
      "scoring_uri: https://endpoint-03311042808194.eastus2.inference.ml.azure.com/score\n",
      "tags: {}\n",
      "traffic:\n",
      "  blue: 100\n",
      "\n"
     ]
    }
   ],
   "source": [
    "print(endpoint)"
   ]
  },
  {
   "cell_type": "code",
   "execution_count": null,
   "metadata": {},
   "outputs": [],
   "source": []
  }
 ],
 "metadata": {
  "kernel_info": {
   "name": "python38-azureml"
  },
  "kernelspec": {
   "display_name": "Python 3.8 - AzureML",
   "language": "python",
   "name": "python38-azureml"
  },
  "language_info": {
   "codemirror_mode": {
    "name": "ipython",
    "version": 3
   },
   "file_extension": ".py",
   "mimetype": "text/x-python",
   "name": "python",
   "nbconvert_exporter": "python",
   "pygments_lexer": "ipython3",
   "version": "3.10.11"
  },
  "microsoft": {
   "host": {
    "AzureML": {
     "notebookHasBeenCompleted": true
    }
   }
  },
  "nteract": {
   "version": "nteract-front-end@1.0.0"
  },
  "vscode": {
   "interpreter": {
    "hash": "f2b2cd046deda8eabef1e765a11d0ec9aa9bd1d31d56ce79c815a38c323e14ec"
   }
  }
 },
 "nbformat": 4,
 "nbformat_minor": 4
}
