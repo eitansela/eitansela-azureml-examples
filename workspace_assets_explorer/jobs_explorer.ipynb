{
 "cells": [
  {
   "cell_type": "markdown",
   "metadata": {
    "nteract": {
     "transient": {
      "deleting": false
     }
    }
   },
   "source": [
    "# Azure Machine Learning Jobs Explorer\n",
    "\n",
    "## Before you start\n",
    "\n",
    "You'll need the latest version of the **azure-ai-ml** package to run the code in this notebook. Run the cell below to verify that it is installed.\n",
    "\n",
    "> **Note**:\n",
    "> If the **azure-ai-ml** package is not installed, run `pip install azure-ai-ml` to install it."
   ]
  },
  {
   "cell_type": "code",
   "execution_count": null,
   "metadata": {
    "tags": []
   },
   "outputs": [],
   "source": [
    "pip install azure-ai-ml azure-identity pandas mlflow azureml-mlflow"
   ]
  },
  {
   "cell_type": "code",
   "execution_count": 1,
   "metadata": {
    "collapsed": false,
    "gather": {
     "logged": 1666789326586
    },
    "jupyter": {
     "outputs_hidden": false,
     "source_hidden": false
    },
    "nteract": {
     "transient": {
      "deleting": false
     }
    },
    "tags": []
   },
   "outputs": [
    {
     "name": "stdout",
     "output_type": "stream",
     "text": [
      "Name: azure-ai-ml\n",
      "Version: 1.26.0\n",
      "Summary: Microsoft Azure Machine Learning Client Library for Python\n",
      "Home-page: https://github.com/Azure/azure-sdk-for-python\n",
      "Author: Microsoft Corporation\n",
      "Author-email: azuresdkengsysadmins@microsoft.com\n",
      "License: MIT License\n",
      "Location: /anaconda/envs/jupyter_env/lib/python3.10/site-packages\n",
      "Requires: azure-common, azure-core, azure-mgmt-core, azure-monitor-opentelemetry, azure-storage-blob, azure-storage-file-datalake, azure-storage-file-share, colorama, isodate, jsonschema, marshmallow, msrest, pydash, pyjwt, pyyaml, strictyaml, tqdm, typing-extensions\n",
      "Required-by: \n",
      "Note: you may need to restart the kernel to use updated packages.\n"
     ]
    }
   ],
   "source": [
    "pip show azure-ai-ml"
   ]
  },
  {
   "cell_type": "markdown",
   "metadata": {
    "nteract": {
     "transient": {
      "deleting": false
     }
    }
   },
   "source": [
    "## Connect to your workspace\n",
    "\n",
    "With the required SDK packages installed, now you're ready to connect to your workspace.\n",
    "\n",
    "To connect to a workspace, we need identifier parameters - a subscription ID, resource group name, and workspace name. Since you're working with a compute instance, managed by Azure Machine Learning, you can use the default values to connect to the workspace."
   ]
  },
  {
   "cell_type": "code",
   "execution_count": 2,
   "metadata": {
    "collapsed": false,
    "gather": {
     "logged": 1666789343369
    },
    "jupyter": {
     "outputs_hidden": false,
     "source_hidden": false
    },
    "nteract": {
     "transient": {
      "deleting": false
     }
    },
    "tags": []
   },
   "outputs": [],
   "source": [
    "from azure.identity import DefaultAzureCredential, InteractiveBrowserCredential\n",
    "from azure.ai.ml import MLClient\n",
    "\n",
    "try:\n",
    "    credential = DefaultAzureCredential()\n",
    "    # Check if given credential can get token successfully.\n",
    "    credential.get_token(\"https://management.azure.com/.default\")\n",
    "except Exception as ex:\n",
    "    # Fall back to InteractiveBrowserCredential in case DefaultAzureCredential not work\n",
    "    credential = InteractiveBrowserCredential()\n"
   ]
  },
  {
   "cell_type": "code",
   "execution_count": 3,
   "metadata": {
    "tags": []
   },
   "outputs": [
    {
     "name": "stderr",
     "output_type": "stream",
     "text": [
      "Found the config file in: /config.json\n"
     ]
    }
   ],
   "source": [
    "# Get a handle to workspace\n",
    "ml_client = MLClient.from_config(credential=credential)"
   ]
  },
  {
   "cell_type": "markdown",
   "metadata": {},
   "source": [
    "## List Jobs Runs"
   ]
  },
  {
   "cell_type": "code",
   "execution_count": 4,
   "metadata": {
    "tags": []
   },
   "outputs": [
    {
     "data": {
      "text/plain": [
       "69"
      ]
     },
     "execution_count": 4,
     "metadata": {},
     "output_type": "execute_result"
    }
   ],
   "source": [
    "runs = [run for run in ml_client.jobs.list()]\n",
    "len(runs)"
   ]
  },
  {
   "cell_type": "markdown",
   "metadata": {},
   "source": [
    "## Print job data"
   ]
  },
  {
   "cell_type": "code",
   "execution_count": 5,
   "metadata": {
    "tags": []
   },
   "outputs": [
    {
     "name": "stderr",
     "output_type": "stream",
     "text": [
      "Class AutoDeleteSettingSchema: This is an experimental class, and may change at any time. Please see https://aka.ms/azuremlexperimental for more information.\n",
      "Class AutoDeleteConditionSchema: This is an experimental class, and may change at any time. Please see https://aka.ms/azuremlexperimental for more information.\n",
      "Class BaseAutoDeleteSettingSchema: This is an experimental class, and may change at any time. Please see https://aka.ms/azuremlexperimental for more information.\n",
      "Class IntellectualPropertySchema: This is an experimental class, and may change at any time. Please see https://aka.ms/azuremlexperimental for more information.\n",
      "Class ProtectionLevelSchema: This is an experimental class, and may change at any time. Please see https://aka.ms/azuremlexperimental for more information.\n",
      "Class BaseIntellectualPropertySchema: This is an experimental class, and may change at any time. Please see https://aka.ms/azuremlexperimental for more information.\n"
     ]
    },
    {
     "name": "stdout",
     "output_type": "stream",
     "text": [
      "type: command\n",
      "outputs:\n",
      "  default:\n",
      "    mode: rw_mount\n",
      "    type: uri_folder\n",
      "    path: azureml://datastores/workspaceartifactstore/ExperimentRun/dcid.dynamic_apple_3kpvlg1l83\n",
      "environment: azureml:AzureML-sklearn-0.24-ubuntu18.04-py37-cpu@latest\n",
      "resources:\n",
      "  instance_count: 1\n",
      "  shm_size: 2g\n",
      "component:\n",
      "  name: dynamic_apple_3kpvlg1l83\n",
      "  display_name: diabetes-pythonv2-train\n",
      "  tags:\n",
      "    envType: test-env-1\n",
      "    _aml_system_ComputeTargetStatus: '{\"AllocationState\":\"steady\",\"PreparingNodeCount\":0,\"RunningNodeCount\":0,\"CurrentNodeCount\":2}'\n",
      "  type: command\n",
      "  outputs:\n",
      "    default:\n",
      "      type: uri_folder\n",
      "      mode: rw_mount\n",
      "  command: python diabetes-training.py\n",
      "  environment: azureml:AzureML-sklearn-0.24-ubuntu18.04-py37-cpu@latest\n",
      "  code: azureml:/subscriptions/a647c11c-fe4c-43c4-b672-963b71adab36/resourceGroups/my-machine-learning-rg-eastus2-112024/providers/Microsoft.MachineLearningServices/workspaces/my-azure-ml-ws-eastus2-112024/codes/17926021-1345-41b9-919e-cb1b7af5f700/versions/1\n",
      "  creation_context:\n",
      "    created_at: '2025-03-23T12:12:39.094726+00:00'\n",
      "    created_by: System Administrator\n",
      "    created_by_type: User\n",
      "  is_deterministic: true\n",
      "compute: azureml:aml-cluster\n",
      "properties:\n",
      "  _azureml.ComputeTargetType: amlctrain\n",
      "  _azureml.ClusterName: aml-cluster\n",
      "  ContentSnapshotId: 4436040a-0b8d-48fb-9141-ac724347f4d5\n",
      "  ProcessInfoFile: azureml-logs/process_info.json\n",
      "  ProcessStatusFile: azureml-logs/process_status.json\n",
      "  StartTimeUtc: '2025-03-23 12:13:04'\n",
      "  EndTimeUtc: '2025-03-23 12:13:12'\n",
      "queue_settings:\n",
      "  job_tier: 'null'\n",
      "services:\n",
      "  Tracking:\n",
      "    endpoint: azureml://eastus2.api.azureml.ms/mlflow/v1.0/subscriptions/a647c11c-fe4c-43c4-b672-963b71adab36/resourceGroups/my-machine-learning-rg-eastus2-112024/providers/Microsoft.MachineLearningServices/workspaces/my-azure-ml-ws-eastus2-112024?\n",
      "    type: Tracking\n",
      "  Studio:\n",
      "    endpoint: https://ml.azure.com/runs/dynamic_apple_3kpvlg1l83?wsid=/subscriptions/a647c11c-fe4c-43c4-b672-963b71adab36/resourcegroups/my-machine-learning-rg-eastus2-112024/workspaces/my-azure-ml-ws-eastus2-112024&tid=c697ddb2-f98a-4c79-b26e-90e161d48098\n",
      "    type: Studio\n",
      "\n"
     ]
    }
   ],
   "source": [
    "print(runs[0])"
   ]
  },
  {
   "cell_type": "code",
   "execution_count": 6,
   "metadata": {
    "tags": []
   },
   "outputs": [],
   "source": [
    "from datetime import datetime\n",
    "\n",
    "def calc_job_duration(job_start_date, job_end_date):\n",
    "    start_date = datetime.strptime(job_start_date, \"%Y-%m-%d %H:%M:%S\")\n",
    "    end_date = datetime.strptime(job_end_date, \"%Y-%m-%d %H:%M:%S\")\n",
    "    difference = end_date - start_date\n",
    "    return(difference.seconds)"
   ]
  },
  {
   "cell_type": "code",
   "execution_count": 7,
   "metadata": {
    "tags": []
   },
   "outputs": [
    {
     "name": "stdout",
     "output_type": "stream",
     "text": [
      "name: dynamic_apple_3kpvlg1l83\n",
      "type: command\n",
      "display_name: diabetes-pythonv2-train\n",
      "envType: {'envType': 'test-env-1', '_aml_system_ComputeTargetStatus': '{\"AllocationState\":\"steady\",\"PreparingNodeCount\":0,\"RunningNodeCount\":0,\"CurrentNodeCount\":2}'}\n",
      "compute: aml-cluster\n",
      "StartTimeUtc: 2025-03-23 12:13:04\n",
      "EndTimeUtc: 2025-03-23 12:13:12\n",
      "Job Duration (Seconds): 8\n"
     ]
    }
   ],
   "source": [
    "for run in runs[0:1]:\n",
    "    print(f\"name: {run.component.name}\")\n",
    "    print(f\"type: {run.type}\")\n",
    "    print(f\"display_name: {run.component.display_name}\")\n",
    "    print(f\"envType: {run.component.tags}\")\n",
    "    print(f\"compute: {run.compute}\")\n",
    "    print(f\"StartTimeUtc: {run.properties['StartTimeUtc']}\")\n",
    "    print(f\"EndTimeUtc: {run.properties['EndTimeUtc']}\")\n",
    "    print(f\"Job Duration (Seconds): {calc_job_duration(run.properties['StartTimeUtc'], run.properties['EndTimeUtc'])}\")"
   ]
  },
  {
   "cell_type": "markdown",
   "metadata": {},
   "source": [
    "## Prepare a list of jobs"
   ]
  },
  {
   "cell_type": "code",
   "execution_count": 8,
   "metadata": {
    "tags": []
   },
   "outputs": [],
   "source": [
    "runs_list = []\n",
    "for run in runs:\n",
    "    if 'command' in run.type:\n",
    "        job = dict(name=run.component.name, \n",
    "                 run_type=run.type,  \n",
    "                 display_name=run.component.display_name, \n",
    "                 environment=run.environment,\n",
    "                 tag=run.component.tags,\n",
    "                 compute=run.compute,\n",
    "                 duration_sec=calc_job_duration(run.properties['StartTimeUtc'], run.properties['EndTimeUtc'])\n",
    "        )\n",
    "        \n",
    "        runs_list.append(job)"
   ]
  },
  {
   "cell_type": "code",
   "execution_count": 9,
   "metadata": {
    "tags": []
   },
   "outputs": [
    {
     "data": {
      "text/plain": [
       "61"
      ]
     },
     "execution_count": 9,
     "metadata": {},
     "output_type": "execute_result"
    }
   ],
   "source": [
    "len(runs_list)"
   ]
  },
  {
   "cell_type": "code",
   "execution_count": 10,
   "metadata": {
    "tags": []
   },
   "outputs": [
    {
     "data": {
      "text/plain": [
       "{'name': 'dynamic_apple_3kpvlg1l83',\n",
       " 'run_type': 'command',\n",
       " 'display_name': 'diabetes-pythonv2-train',\n",
       " 'environment': 'azureml:AzureML-sklearn-0.24-ubuntu18.04-py37-cpu@latest',\n",
       " 'tag': {'envType': 'test-env-1',\n",
       "  '_aml_system_ComputeTargetStatus': '{\"AllocationState\":\"steady\",\"PreparingNodeCount\":0,\"RunningNodeCount\":0,\"CurrentNodeCount\":2}'},\n",
       " 'compute': 'aml-cluster',\n",
       " 'duration_sec': 8}"
      ]
     },
     "execution_count": 10,
     "metadata": {},
     "output_type": "execute_result"
    }
   ],
   "source": [
    "runs_list[0]"
   ]
  },
  {
   "cell_type": "markdown",
   "metadata": {},
   "source": [
    "## Create a dataframe with jobs data"
   ]
  },
  {
   "cell_type": "code",
   "execution_count": 11,
   "metadata": {
    "tags": []
   },
   "outputs": [],
   "source": [
    "import pandas as pd"
   ]
  },
  {
   "cell_type": "code",
   "execution_count": 12,
   "metadata": {
    "tags": []
   },
   "outputs": [],
   "source": [
    "df = pd.DataFrame(runs_list)"
   ]
  },
  {
   "cell_type": "code",
   "execution_count": 13,
   "metadata": {
    "tags": []
   },
   "outputs": [
    {
     "data": {
      "text/html": [
       "<div>\n",
       "<style scoped>\n",
       "    .dataframe tbody tr th:only-of-type {\n",
       "        vertical-align: middle;\n",
       "    }\n",
       "\n",
       "    .dataframe tbody tr th {\n",
       "        vertical-align: top;\n",
       "    }\n",
       "\n",
       "    .dataframe thead th {\n",
       "        text-align: right;\n",
       "    }\n",
       "</style>\n",
       "<table border=\"1\" class=\"dataframe\">\n",
       "  <thead>\n",
       "    <tr style=\"text-align: right;\">\n",
       "      <th></th>\n",
       "      <th>name</th>\n",
       "      <th>run_type</th>\n",
       "      <th>display_name</th>\n",
       "      <th>environment</th>\n",
       "      <th>tag</th>\n",
       "      <th>compute</th>\n",
       "      <th>duration_sec</th>\n",
       "    </tr>\n",
       "  </thead>\n",
       "  <tbody>\n",
       "    <tr>\n",
       "      <th>0</th>\n",
       "      <td>dynamic_apple_3kpvlg1l83</td>\n",
       "      <td>command</td>\n",
       "      <td>diabetes-pythonv2-train</td>\n",
       "      <td>azureml:AzureML-sklearn-0.24-ubuntu18.04-py37-...</td>\n",
       "      <td>{'envType': 'test-env-1', '_aml_system_Compute...</td>\n",
       "      <td>aml-cluster</td>\n",
       "      <td>8</td>\n",
       "    </tr>\n",
       "    <tr>\n",
       "      <th>1</th>\n",
       "      <td>olden_fish_4q2vxwl4bh</td>\n",
       "      <td>command</td>\n",
       "      <td>diabetes-pythonv2-train</td>\n",
       "      <td>azureml:AzureML-sklearn-0.24-ubuntu18.04-py37-...</td>\n",
       "      <td>{'envType': 'test-env-1', '_aml_system_Compute...</td>\n",
       "      <td>aml-cluster</td>\n",
       "      <td>16</td>\n",
       "    </tr>\n",
       "    <tr>\n",
       "      <th>2</th>\n",
       "      <td>busy_arm_ml2zxk4rzb</td>\n",
       "      <td>command</td>\n",
       "      <td>diabetes-pythonv2-train</td>\n",
       "      <td>azureml:AzureML-sklearn-0.24-ubuntu18.04-py37-...</td>\n",
       "      <td>{'envType': 'test-env-1', '_aml_system_Compute...</td>\n",
       "      <td>aml-cluster</td>\n",
       "      <td>9</td>\n",
       "    </tr>\n",
       "    <tr>\n",
       "      <th>3</th>\n",
       "      <td>affable_window_nlp1l4vt7h</td>\n",
       "      <td>command</td>\n",
       "      <td>diabetes-pythonv2-train</td>\n",
       "      <td>azureml:AzureML-sklearn-0.24-ubuntu18.04-py37-...</td>\n",
       "      <td>{'envType': 'test-env-1', '_aml_system_Compute...</td>\n",
       "      <td>aml-cluster</td>\n",
       "      <td>9</td>\n",
       "    </tr>\n",
       "    <tr>\n",
       "      <th>4</th>\n",
       "      <td>tidy_vinegar_6x5hwk37jr</td>\n",
       "      <td>command</td>\n",
       "      <td>diabetes-pythonv2-train</td>\n",
       "      <td>azureml:AzureML-sklearn-0.24-ubuntu18.04-py37-...</td>\n",
       "      <td>{'envType': 'test-env-1', '_aml_system_Compute...</td>\n",
       "      <td>aml-cluster</td>\n",
       "      <td>8</td>\n",
       "    </tr>\n",
       "    <tr>\n",
       "      <th>...</th>\n",
       "      <td>...</td>\n",
       "      <td>...</td>\n",
       "      <td>...</td>\n",
       "      <td>...</td>\n",
       "      <td>...</td>\n",
       "      <td>...</td>\n",
       "      <td>...</td>\n",
       "    </tr>\n",
       "    <tr>\n",
       "      <th>56</th>\n",
       "      <td>magenta_eye_67wq3qycmg</td>\n",
       "      <td>command</td>\n",
       "      <td>diabetes-train-mlflow</td>\n",
       "      <td>azureml:AzureML-sklearn-0.24-ubuntu18.04-py37-...</td>\n",
       "      <td>{'model_type': 'LogisticRegression', '_aml_sys...</td>\n",
       "      <td>aml-cluster</td>\n",
       "      <td>13</td>\n",
       "    </tr>\n",
       "    <tr>\n",
       "      <th>57</th>\n",
       "      <td>patient_basin_jdnl1p9w2h</td>\n",
       "      <td>command</td>\n",
       "      <td>diabetes-train-script</td>\n",
       "      <td>azureml:AzureML-sklearn-0.24-ubuntu18.04-py37-...</td>\n",
       "      <td>{'_aml_system_ComputeTargetStatus': '{\"Allocat...</td>\n",
       "      <td>aml-cluster</td>\n",
       "      <td>72</td>\n",
       "    </tr>\n",
       "    <tr>\n",
       "      <th>58</th>\n",
       "      <td>purple_eye_tdznk0q9m9</td>\n",
       "      <td>command</td>\n",
       "      <td>move-diabetes-data</td>\n",
       "      <td>azureml:AzureML-sklearn-0.24-ubuntu18.04-py37-...</td>\n",
       "      <td>{'_aml_system_ComputeTargetStatus': '{\"Allocat...</td>\n",
       "      <td>aml-cluster</td>\n",
       "      <td>131</td>\n",
       "    </tr>\n",
       "    <tr>\n",
       "      <th>59</th>\n",
       "      <td>icy_arch_5s2wwdzw1d</td>\n",
       "      <td>command</td>\n",
       "      <td>move-diabetes-data</td>\n",
       "      <td>azureml:AzureML-sklearn-0.24-ubuntu18.04-py37-...</td>\n",
       "      <td>{'_aml_system_ComputeTargetStatus': '{\"Allocat...</td>\n",
       "      <td>aml-cluster</td>\n",
       "      <td>123</td>\n",
       "    </tr>\n",
       "    <tr>\n",
       "      <th>60</th>\n",
       "      <td>careful_calypso_kfxyvw94vx</td>\n",
       "      <td>command</td>\n",
       "      <td>diabetes-pythonv2-train</td>\n",
       "      <td>azureml:AzureML-sklearn-0.24-ubuntu18.04-py37-...</td>\n",
       "      <td>{'_aml_system_ComputeTargetStatus': '{\"Allocat...</td>\n",
       "      <td>aml-cluster</td>\n",
       "      <td>76</td>\n",
       "    </tr>\n",
       "  </tbody>\n",
       "</table>\n",
       "<p>61 rows × 7 columns</p>\n",
       "</div>"
      ],
      "text/plain": [
       "                          name run_type             display_name  \\\n",
       "0     dynamic_apple_3kpvlg1l83  command  diabetes-pythonv2-train   \n",
       "1        olden_fish_4q2vxwl4bh  command  diabetes-pythonv2-train   \n",
       "2          busy_arm_ml2zxk4rzb  command  diabetes-pythonv2-train   \n",
       "3    affable_window_nlp1l4vt7h  command  diabetes-pythonv2-train   \n",
       "4      tidy_vinegar_6x5hwk37jr  command  diabetes-pythonv2-train   \n",
       "..                         ...      ...                      ...   \n",
       "56      magenta_eye_67wq3qycmg  command    diabetes-train-mlflow   \n",
       "57    patient_basin_jdnl1p9w2h  command    diabetes-train-script   \n",
       "58       purple_eye_tdznk0q9m9  command       move-diabetes-data   \n",
       "59         icy_arch_5s2wwdzw1d  command       move-diabetes-data   \n",
       "60  careful_calypso_kfxyvw94vx  command  diabetes-pythonv2-train   \n",
       "\n",
       "                                          environment  \\\n",
       "0   azureml:AzureML-sklearn-0.24-ubuntu18.04-py37-...   \n",
       "1   azureml:AzureML-sklearn-0.24-ubuntu18.04-py37-...   \n",
       "2   azureml:AzureML-sklearn-0.24-ubuntu18.04-py37-...   \n",
       "3   azureml:AzureML-sklearn-0.24-ubuntu18.04-py37-...   \n",
       "4   azureml:AzureML-sklearn-0.24-ubuntu18.04-py37-...   \n",
       "..                                                ...   \n",
       "56  azureml:AzureML-sklearn-0.24-ubuntu18.04-py37-...   \n",
       "57  azureml:AzureML-sklearn-0.24-ubuntu18.04-py37-...   \n",
       "58  azureml:AzureML-sklearn-0.24-ubuntu18.04-py37-...   \n",
       "59  azureml:AzureML-sklearn-0.24-ubuntu18.04-py37-...   \n",
       "60  azureml:AzureML-sklearn-0.24-ubuntu18.04-py37-...   \n",
       "\n",
       "                                                  tag      compute  \\\n",
       "0   {'envType': 'test-env-1', '_aml_system_Compute...  aml-cluster   \n",
       "1   {'envType': 'test-env-1', '_aml_system_Compute...  aml-cluster   \n",
       "2   {'envType': 'test-env-1', '_aml_system_Compute...  aml-cluster   \n",
       "3   {'envType': 'test-env-1', '_aml_system_Compute...  aml-cluster   \n",
       "4   {'envType': 'test-env-1', '_aml_system_Compute...  aml-cluster   \n",
       "..                                                ...          ...   \n",
       "56  {'model_type': 'LogisticRegression', '_aml_sys...  aml-cluster   \n",
       "57  {'_aml_system_ComputeTargetStatus': '{\"Allocat...  aml-cluster   \n",
       "58  {'_aml_system_ComputeTargetStatus': '{\"Allocat...  aml-cluster   \n",
       "59  {'_aml_system_ComputeTargetStatus': '{\"Allocat...  aml-cluster   \n",
       "60  {'_aml_system_ComputeTargetStatus': '{\"Allocat...  aml-cluster   \n",
       "\n",
       "    duration_sec  \n",
       "0              8  \n",
       "1             16  \n",
       "2              9  \n",
       "3              9  \n",
       "4              8  \n",
       "..           ...  \n",
       "56            13  \n",
       "57            72  \n",
       "58           131  \n",
       "59           123  \n",
       "60            76  \n",
       "\n",
       "[61 rows x 7 columns]"
      ]
     },
     "execution_count": 13,
     "metadata": {},
     "output_type": "execute_result"
    }
   ],
   "source": [
    "df"
   ]
  },
  {
   "cell_type": "markdown",
   "metadata": {},
   "source": [
    "## Get experiments data"
   ]
  },
  {
   "cell_type": "code",
   "execution_count": 14,
   "metadata": {
    "tags": []
   },
   "outputs": [
    {
     "name": "stderr",
     "output_type": "stream",
     "text": [
      "/anaconda/envs/jupyter_env/lib/python3.10/site-packages/azureml/mlflow/_protos/aml_service_pb2.py:10: UserWarning: google.protobuf.service module is deprecated. RPC implementations should provide code generator plugins which generate code specific to the RPC implementation. service.py will be removed in Jan 2025\n",
      "  from google.protobuf import service as _service\n"
     ]
    },
    {
     "name": "stdout",
     "output_type": "stream",
     "text": [
      "diabetes-training\n",
      "move-diabetes-data\n",
      "mlflow-experiment-diabetes\n",
      "sweep-diabetes\n",
      "pipeline_diabetes\n",
      "iris\n",
      "dpv2-classifier-experiment\n",
      "auto-ml-class-dev\n",
      "dpv2-regression-experiment\n",
      "automobile-price-prediction\n",
      "pipeline_samples\n",
      "prepare_image\n",
      "YOLOX-experiment\n",
      "explore-images-data\n",
      "explore-images-data-compute-instance\n"
     ]
    }
   ],
   "source": [
    "import mlflow\n",
    "experiments = mlflow.search_experiments()\n",
    "for exp in experiments:\n",
    "    print(exp.name)"
   ]
  },
  {
   "cell_type": "code",
   "execution_count": 15,
   "metadata": {
    "tags": []
   },
   "outputs": [
    {
     "name": "stdout",
     "output_type": "stream",
     "text": [
      "<Experiment: artifact_location='', creation_time=1731841973255, experiment_id='e99e4d39-4611-4b0a-b78c-08b0edb8c3ec', last_update_time=None, lifecycle_stage='active', name='diabetes-training', tags={}>\n",
      "e99e4d39-4611-4b0a-b78c-08b0edb8c3ec\n"
     ]
    }
   ],
   "source": [
    "exp = mlflow.get_experiment_by_name(experiments[0].name)\n",
    "print(exp)\n",
    "print(exp.experiment_id)"
   ]
  },
  {
   "cell_type": "code",
   "execution_count": 16,
   "metadata": {
    "tags": []
   },
   "outputs": [
    {
     "data": {
      "text/html": [
       "<div>\n",
       "<style scoped>\n",
       "    .dataframe tbody tr th:only-of-type {\n",
       "        vertical-align: middle;\n",
       "    }\n",
       "\n",
       "    .dataframe tbody tr th {\n",
       "        vertical-align: top;\n",
       "    }\n",
       "\n",
       "    .dataframe thead th {\n",
       "        text-align: right;\n",
       "    }\n",
       "</style>\n",
       "<table border=\"1\" class=\"dataframe\">\n",
       "  <thead>\n",
       "    <tr style=\"text-align: right;\">\n",
       "      <th></th>\n",
       "      <th>run_id</th>\n",
       "      <th>experiment_id</th>\n",
       "      <th>status</th>\n",
       "      <th>artifact_uri</th>\n",
       "      <th>start_time</th>\n",
       "      <th>end_time</th>\n",
       "      <th>metrics.Accuracy</th>\n",
       "      <th>metrics.AUC</th>\n",
       "      <th>metrics.training_recall_score</th>\n",
       "      <th>metrics.training_roc_auc_score</th>\n",
       "      <th>...</th>\n",
       "      <th>params.class_weight</th>\n",
       "      <th>params.warm_start</th>\n",
       "      <th>tags.mlflow.user</th>\n",
       "      <th>tags.mlflow.rootRunId</th>\n",
       "      <th>tags.mlflow.runName</th>\n",
       "      <th>tags.model_type</th>\n",
       "      <th>tags.mlflow.autologging</th>\n",
       "      <th>tags.estimator_class</th>\n",
       "      <th>tags.estimator_name</th>\n",
       "      <th>tags.envType</th>\n",
       "    </tr>\n",
       "  </thead>\n",
       "  <tbody>\n",
       "    <tr>\n",
       "      <th>0</th>\n",
       "      <td>careful_calypso_kfxyvw94vx</td>\n",
       "      <td>e99e4d39-4611-4b0a-b78c-08b0edb8c3ec</td>\n",
       "      <td>FINISHED</td>\n",
       "      <td></td>\n",
       "      <td>2024-11-17 11:16:47.225000+00:00</td>\n",
       "      <td>2024-11-17 11:18:03.437000+00:00</td>\n",
       "      <td>NaN</td>\n",
       "      <td>NaN</td>\n",
       "      <td>NaN</td>\n",
       "      <td>NaN</td>\n",
       "      <td>...</td>\n",
       "      <td>None</td>\n",
       "      <td>None</td>\n",
       "      <td>System Administrator</td>\n",
       "      <td>careful_calypso_kfxyvw94vx</td>\n",
       "      <td>diabetes-pythonv2-train</td>\n",
       "      <td>None</td>\n",
       "      <td>None</td>\n",
       "      <td>None</td>\n",
       "      <td>None</td>\n",
       "      <td>None</td>\n",
       "    </tr>\n",
       "    <tr>\n",
       "      <th>1</th>\n",
       "      <td>patient_basin_jdnl1p9w2h</td>\n",
       "      <td>e99e4d39-4611-4b0a-b78c-08b0edb8c3ec</td>\n",
       "      <td>FINISHED</td>\n",
       "      <td></td>\n",
       "      <td>2024-11-17 12:51:12.086000+00:00</td>\n",
       "      <td>2024-11-17 12:52:24.965000+00:00</td>\n",
       "      <td>NaN</td>\n",
       "      <td>NaN</td>\n",
       "      <td>NaN</td>\n",
       "      <td>NaN</td>\n",
       "      <td>...</td>\n",
       "      <td>None</td>\n",
       "      <td>None</td>\n",
       "      <td>System Administrator</td>\n",
       "      <td>patient_basin_jdnl1p9w2h</td>\n",
       "      <td>diabetes-train-script</td>\n",
       "      <td>None</td>\n",
       "      <td>None</td>\n",
       "      <td>None</td>\n",
       "      <td>None</td>\n",
       "      <td>None</td>\n",
       "    </tr>\n",
       "    <tr>\n",
       "      <th>2</th>\n",
       "      <td>magenta_eye_67wq3qycmg</td>\n",
       "      <td>e99e4d39-4611-4b0a-b78c-08b0edb8c3ec</td>\n",
       "      <td>FINISHED</td>\n",
       "      <td></td>\n",
       "      <td>2024-11-17 12:52:38.401000+00:00</td>\n",
       "      <td>2024-11-17 12:52:51.092000+00:00</td>\n",
       "      <td>0.774</td>\n",
       "      <td>0.84832</td>\n",
       "      <td>NaN</td>\n",
       "      <td>NaN</td>\n",
       "      <td>...</td>\n",
       "      <td>None</td>\n",
       "      <td>None</td>\n",
       "      <td>System Administrator</td>\n",
       "      <td>magenta_eye_67wq3qycmg</td>\n",
       "      <td>diabetes-train-mlflow</td>\n",
       "      <td>LogisticRegression</td>\n",
       "      <td>None</td>\n",
       "      <td>None</td>\n",
       "      <td>None</td>\n",
       "      <td>None</td>\n",
       "    </tr>\n",
       "    <tr>\n",
       "      <th>3</th>\n",
       "      <td>clever_tangelo_xs41b96z3z</td>\n",
       "      <td>e99e4d39-4611-4b0a-b78c-08b0edb8c3ec</td>\n",
       "      <td>FINISHED</td>\n",
       "      <td></td>\n",
       "      <td>2024-11-17 12:53:01.277000+00:00</td>\n",
       "      <td>2024-11-17 12:54:20.424000+00:00</td>\n",
       "      <td>NaN</td>\n",
       "      <td>NaN</td>\n",
       "      <td>0.790857</td>\n",
       "      <td>0.861979</td>\n",
       "      <td>...</td>\n",
       "      <td>None</td>\n",
       "      <td>False</td>\n",
       "      <td>System Administrator</td>\n",
       "      <td>clever_tangelo_xs41b96z3z</td>\n",
       "      <td>diabetes-train-autolog</td>\n",
       "      <td>None</td>\n",
       "      <td>sklearn</td>\n",
       "      <td>sklearn.linear_model._logistic.LogisticRegression</td>\n",
       "      <td>LogisticRegression</td>\n",
       "      <td>None</td>\n",
       "    </tr>\n",
       "    <tr>\n",
       "      <th>4</th>\n",
       "      <td>coral_peach_6j5tl7czv7</td>\n",
       "      <td>e99e4d39-4611-4b0a-b78c-08b0edb8c3ec</td>\n",
       "      <td>FINISHED</td>\n",
       "      <td></td>\n",
       "      <td>2024-11-17 12:58:26.887000+00:00</td>\n",
       "      <td>2024-11-17 12:59:41.709000+00:00</td>\n",
       "      <td>NaN</td>\n",
       "      <td>0.84832</td>\n",
       "      <td>NaN</td>\n",
       "      <td>NaN</td>\n",
       "      <td>...</td>\n",
       "      <td>None</td>\n",
       "      <td>None</td>\n",
       "      <td>System Administrator</td>\n",
       "      <td>coral_peach_6j5tl7czv7</td>\n",
       "      <td>diabetes-train-mlflow</td>\n",
       "      <td>LogisticRegression</td>\n",
       "      <td>None</td>\n",
       "      <td>None</td>\n",
       "      <td>None</td>\n",
       "      <td>None</td>\n",
       "    </tr>\n",
       "  </tbody>\n",
       "</table>\n",
       "<p>5 rows × 39 columns</p>\n",
       "</div>"
      ],
      "text/plain": [
       "                       run_id                         experiment_id    status  \\\n",
       "0  careful_calypso_kfxyvw94vx  e99e4d39-4611-4b0a-b78c-08b0edb8c3ec  FINISHED   \n",
       "1    patient_basin_jdnl1p9w2h  e99e4d39-4611-4b0a-b78c-08b0edb8c3ec  FINISHED   \n",
       "2      magenta_eye_67wq3qycmg  e99e4d39-4611-4b0a-b78c-08b0edb8c3ec  FINISHED   \n",
       "3   clever_tangelo_xs41b96z3z  e99e4d39-4611-4b0a-b78c-08b0edb8c3ec  FINISHED   \n",
       "4      coral_peach_6j5tl7czv7  e99e4d39-4611-4b0a-b78c-08b0edb8c3ec  FINISHED   \n",
       "\n",
       "  artifact_uri                       start_time  \\\n",
       "0              2024-11-17 11:16:47.225000+00:00   \n",
       "1              2024-11-17 12:51:12.086000+00:00   \n",
       "2              2024-11-17 12:52:38.401000+00:00   \n",
       "3              2024-11-17 12:53:01.277000+00:00   \n",
       "4              2024-11-17 12:58:26.887000+00:00   \n",
       "\n",
       "                          end_time  metrics.Accuracy  metrics.AUC  \\\n",
       "0 2024-11-17 11:18:03.437000+00:00               NaN          NaN   \n",
       "1 2024-11-17 12:52:24.965000+00:00               NaN          NaN   \n",
       "2 2024-11-17 12:52:51.092000+00:00             0.774      0.84832   \n",
       "3 2024-11-17 12:54:20.424000+00:00               NaN          NaN   \n",
       "4 2024-11-17 12:59:41.709000+00:00               NaN      0.84832   \n",
       "\n",
       "   metrics.training_recall_score  metrics.training_roc_auc_score  ...  \\\n",
       "0                            NaN                             NaN  ...   \n",
       "1                            NaN                             NaN  ...   \n",
       "2                            NaN                             NaN  ...   \n",
       "3                       0.790857                        0.861979  ...   \n",
       "4                            NaN                             NaN  ...   \n",
       "\n",
       "   params.class_weight  params.warm_start      tags.mlflow.user  \\\n",
       "0                 None               None  System Administrator   \n",
       "1                 None               None  System Administrator   \n",
       "2                 None               None  System Administrator   \n",
       "3                 None              False  System Administrator   \n",
       "4                 None               None  System Administrator   \n",
       "\n",
       "        tags.mlflow.rootRunId      tags.mlflow.runName     tags.model_type  \\\n",
       "0  careful_calypso_kfxyvw94vx  diabetes-pythonv2-train                None   \n",
       "1    patient_basin_jdnl1p9w2h    diabetes-train-script                None   \n",
       "2      magenta_eye_67wq3qycmg    diabetes-train-mlflow  LogisticRegression   \n",
       "3   clever_tangelo_xs41b96z3z   diabetes-train-autolog                None   \n",
       "4      coral_peach_6j5tl7czv7    diabetes-train-mlflow  LogisticRegression   \n",
       "\n",
       "  tags.mlflow.autologging                               tags.estimator_class  \\\n",
       "0                    None                                               None   \n",
       "1                    None                                               None   \n",
       "2                    None                                               None   \n",
       "3                 sklearn  sklearn.linear_model._logistic.LogisticRegression   \n",
       "4                    None                                               None   \n",
       "\n",
       "  tags.estimator_name tags.envType  \n",
       "0                None         None  \n",
       "1                None         None  \n",
       "2                None         None  \n",
       "3  LogisticRegression         None  \n",
       "4                None         None  \n",
       "\n",
       "[5 rows x 39 columns]"
      ]
     },
     "execution_count": 16,
     "metadata": {},
     "output_type": "execute_result"
    }
   ],
   "source": [
    "mlflow.search_runs(exp.experiment_id).head()"
   ]
  },
  {
   "cell_type": "markdown",
   "metadata": {
    "tags": []
   },
   "source": [
    "## Create a dataframe with all experiments and experiment name"
   ]
  },
  {
   "cell_type": "code",
   "execution_count": 17,
   "metadata": {
    "tags": []
   },
   "outputs": [
    {
     "name": "stdout",
     "output_type": "stream",
     "text": [
      "diabetes-training\n",
      "move-diabetes-data\n",
      "mlflow-experiment-diabetes\n",
      "sweep-diabetes\n",
      "pipeline_diabetes\n",
      "iris\n",
      "dpv2-classifier-experiment\n",
      "auto-ml-class-dev\n",
      "dpv2-regression-experiment\n",
      "automobile-price-prediction\n",
      "pipeline_samples\n",
      "prepare_image\n",
      "YOLOX-experiment\n",
      "explore-images-data\n",
      "explore-images-data-compute-instance\n"
     ]
    }
   ],
   "source": [
    "first_time = True\n",
    "experiments = mlflow.search_experiments()\n",
    "for exp in experiments:\n",
    "    runs = mlflow.search_runs(exp.experiment_id)\n",
    "    runs['experiment_name'] = exp.name\n",
    "    print(exp.name)\n",
    "    if first_time:\n",
    "        all_runs_df = runs\n",
    "        first_time = False\n",
    "    else:\n",
    "        all_runs_df = pd.concat([all_runs_df, runs], axis=0, ignore_index=True)"
   ]
  },
  {
   "cell_type": "code",
   "execution_count": 18,
   "metadata": {
    "tags": []
   },
   "outputs": [
    {
     "data": {
      "text/html": [
       "<div>\n",
       "<style scoped>\n",
       "    .dataframe tbody tr th:only-of-type {\n",
       "        vertical-align: middle;\n",
       "    }\n",
       "\n",
       "    .dataframe tbody tr th {\n",
       "        vertical-align: top;\n",
       "    }\n",
       "\n",
       "    .dataframe thead th {\n",
       "        text-align: right;\n",
       "    }\n",
       "</style>\n",
       "<table border=\"1\" class=\"dataframe\">\n",
       "  <thead>\n",
       "    <tr style=\"text-align: right;\">\n",
       "      <th></th>\n",
       "      <th>run_id</th>\n",
       "      <th>experiment_id</th>\n",
       "      <th>status</th>\n",
       "      <th>artifact_uri</th>\n",
       "      <th>start_time</th>\n",
       "      <th>end_time</th>\n",
       "      <th>metrics.Accuracy</th>\n",
       "      <th>metrics.AUC</th>\n",
       "      <th>metrics.training_recall_score</th>\n",
       "      <th>metrics.training_roc_auc_score</th>\n",
       "      <th>...</th>\n",
       "      <th>metrics.mean_absolute_error</th>\n",
       "      <th>tags._azureml.ComputeTargetType</th>\n",
       "      <th>metrics.Coefficient_of_Determination</th>\n",
       "      <th>metrics.Mean_Absolute_Error</th>\n",
       "      <th>metrics.Relative_Absolute_Error</th>\n",
       "      <th>metrics.Root_Mean_Squared_Error</th>\n",
       "      <th>metrics.Relative_Squared_Error</th>\n",
       "      <th>params.training_learning_rate</th>\n",
       "      <th>params.learning_rate_schedule</th>\n",
       "      <th>params.training_max_epochs</th>\n",
       "    </tr>\n",
       "  </thead>\n",
       "  <tbody>\n",
       "    <tr>\n",
       "      <th>0</th>\n",
       "      <td>careful_calypso_kfxyvw94vx</td>\n",
       "      <td>e99e4d39-4611-4b0a-b78c-08b0edb8c3ec</td>\n",
       "      <td>FINISHED</td>\n",
       "      <td></td>\n",
       "      <td>2024-11-17 11:16:47.225000+00:00</td>\n",
       "      <td>2024-11-17 11:18:03.437000+00:00</td>\n",
       "      <td>NaN</td>\n",
       "      <td>NaN</td>\n",
       "      <td>NaN</td>\n",
       "      <td>NaN</td>\n",
       "      <td>...</td>\n",
       "      <td>NaN</td>\n",
       "      <td>NaN</td>\n",
       "      <td>NaN</td>\n",
       "      <td>NaN</td>\n",
       "      <td>NaN</td>\n",
       "      <td>NaN</td>\n",
       "      <td>NaN</td>\n",
       "      <td>NaN</td>\n",
       "      <td>NaN</td>\n",
       "      <td>NaN</td>\n",
       "    </tr>\n",
       "    <tr>\n",
       "      <th>1</th>\n",
       "      <td>patient_basin_jdnl1p9w2h</td>\n",
       "      <td>e99e4d39-4611-4b0a-b78c-08b0edb8c3ec</td>\n",
       "      <td>FINISHED</td>\n",
       "      <td></td>\n",
       "      <td>2024-11-17 12:51:12.086000+00:00</td>\n",
       "      <td>2024-11-17 12:52:24.965000+00:00</td>\n",
       "      <td>NaN</td>\n",
       "      <td>NaN</td>\n",
       "      <td>NaN</td>\n",
       "      <td>NaN</td>\n",
       "      <td>...</td>\n",
       "      <td>NaN</td>\n",
       "      <td>NaN</td>\n",
       "      <td>NaN</td>\n",
       "      <td>NaN</td>\n",
       "      <td>NaN</td>\n",
       "      <td>NaN</td>\n",
       "      <td>NaN</td>\n",
       "      <td>NaN</td>\n",
       "      <td>NaN</td>\n",
       "      <td>NaN</td>\n",
       "    </tr>\n",
       "    <tr>\n",
       "      <th>2</th>\n",
       "      <td>magenta_eye_67wq3qycmg</td>\n",
       "      <td>e99e4d39-4611-4b0a-b78c-08b0edb8c3ec</td>\n",
       "      <td>FINISHED</td>\n",
       "      <td></td>\n",
       "      <td>2024-11-17 12:52:38.401000+00:00</td>\n",
       "      <td>2024-11-17 12:52:51.092000+00:00</td>\n",
       "      <td>0.774</td>\n",
       "      <td>0.84832</td>\n",
       "      <td>NaN</td>\n",
       "      <td>NaN</td>\n",
       "      <td>...</td>\n",
       "      <td>NaN</td>\n",
       "      <td>NaN</td>\n",
       "      <td>NaN</td>\n",
       "      <td>NaN</td>\n",
       "      <td>NaN</td>\n",
       "      <td>NaN</td>\n",
       "      <td>NaN</td>\n",
       "      <td>NaN</td>\n",
       "      <td>NaN</td>\n",
       "      <td>NaN</td>\n",
       "    </tr>\n",
       "    <tr>\n",
       "      <th>3</th>\n",
       "      <td>clever_tangelo_xs41b96z3z</td>\n",
       "      <td>e99e4d39-4611-4b0a-b78c-08b0edb8c3ec</td>\n",
       "      <td>FINISHED</td>\n",
       "      <td></td>\n",
       "      <td>2024-11-17 12:53:01.277000+00:00</td>\n",
       "      <td>2024-11-17 12:54:20.424000+00:00</td>\n",
       "      <td>NaN</td>\n",
       "      <td>NaN</td>\n",
       "      <td>0.790857</td>\n",
       "      <td>0.861979</td>\n",
       "      <td>...</td>\n",
       "      <td>NaN</td>\n",
       "      <td>NaN</td>\n",
       "      <td>NaN</td>\n",
       "      <td>NaN</td>\n",
       "      <td>NaN</td>\n",
       "      <td>NaN</td>\n",
       "      <td>NaN</td>\n",
       "      <td>NaN</td>\n",
       "      <td>NaN</td>\n",
       "      <td>NaN</td>\n",
       "    </tr>\n",
       "    <tr>\n",
       "      <th>4</th>\n",
       "      <td>coral_peach_6j5tl7czv7</td>\n",
       "      <td>e99e4d39-4611-4b0a-b78c-08b0edb8c3ec</td>\n",
       "      <td>FINISHED</td>\n",
       "      <td></td>\n",
       "      <td>2024-11-17 12:58:26.887000+00:00</td>\n",
       "      <td>2024-11-17 12:59:41.709000+00:00</td>\n",
       "      <td>NaN</td>\n",
       "      <td>0.84832</td>\n",
       "      <td>NaN</td>\n",
       "      <td>NaN</td>\n",
       "      <td>...</td>\n",
       "      <td>NaN</td>\n",
       "      <td>NaN</td>\n",
       "      <td>NaN</td>\n",
       "      <td>NaN</td>\n",
       "      <td>NaN</td>\n",
       "      <td>NaN</td>\n",
       "      <td>NaN</td>\n",
       "      <td>NaN</td>\n",
       "      <td>NaN</td>\n",
       "      <td>NaN</td>\n",
       "    </tr>\n",
       "  </tbody>\n",
       "</table>\n",
       "<p>5 rows × 118 columns</p>\n",
       "</div>"
      ],
      "text/plain": [
       "                       run_id                         experiment_id    status  \\\n",
       "0  careful_calypso_kfxyvw94vx  e99e4d39-4611-4b0a-b78c-08b0edb8c3ec  FINISHED   \n",
       "1    patient_basin_jdnl1p9w2h  e99e4d39-4611-4b0a-b78c-08b0edb8c3ec  FINISHED   \n",
       "2      magenta_eye_67wq3qycmg  e99e4d39-4611-4b0a-b78c-08b0edb8c3ec  FINISHED   \n",
       "3   clever_tangelo_xs41b96z3z  e99e4d39-4611-4b0a-b78c-08b0edb8c3ec  FINISHED   \n",
       "4      coral_peach_6j5tl7czv7  e99e4d39-4611-4b0a-b78c-08b0edb8c3ec  FINISHED   \n",
       "\n",
       "  artifact_uri                       start_time  \\\n",
       "0              2024-11-17 11:16:47.225000+00:00   \n",
       "1              2024-11-17 12:51:12.086000+00:00   \n",
       "2              2024-11-17 12:52:38.401000+00:00   \n",
       "3              2024-11-17 12:53:01.277000+00:00   \n",
       "4              2024-11-17 12:58:26.887000+00:00   \n",
       "\n",
       "                          end_time  metrics.Accuracy  metrics.AUC  \\\n",
       "0 2024-11-17 11:18:03.437000+00:00               NaN          NaN   \n",
       "1 2024-11-17 12:52:24.965000+00:00               NaN          NaN   \n",
       "2 2024-11-17 12:52:51.092000+00:00             0.774      0.84832   \n",
       "3 2024-11-17 12:54:20.424000+00:00               NaN          NaN   \n",
       "4 2024-11-17 12:59:41.709000+00:00               NaN      0.84832   \n",
       "\n",
       "   metrics.training_recall_score  metrics.training_roc_auc_score  ...  \\\n",
       "0                            NaN                             NaN  ...   \n",
       "1                            NaN                             NaN  ...   \n",
       "2                            NaN                             NaN  ...   \n",
       "3                       0.790857                        0.861979  ...   \n",
       "4                            NaN                             NaN  ...   \n",
       "\n",
       "   metrics.mean_absolute_error  tags._azureml.ComputeTargetType  \\\n",
       "0                          NaN                              NaN   \n",
       "1                          NaN                              NaN   \n",
       "2                          NaN                              NaN   \n",
       "3                          NaN                              NaN   \n",
       "4                          NaN                              NaN   \n",
       "\n",
       "   metrics.Coefficient_of_Determination  metrics.Mean_Absolute_Error  \\\n",
       "0                                   NaN                          NaN   \n",
       "1                                   NaN                          NaN   \n",
       "2                                   NaN                          NaN   \n",
       "3                                   NaN                          NaN   \n",
       "4                                   NaN                          NaN   \n",
       "\n",
       "   metrics.Relative_Absolute_Error metrics.Root_Mean_Squared_Error  \\\n",
       "0                              NaN                             NaN   \n",
       "1                              NaN                             NaN   \n",
       "2                              NaN                             NaN   \n",
       "3                              NaN                             NaN   \n",
       "4                              NaN                             NaN   \n",
       "\n",
       "  metrics.Relative_Squared_Error params.training_learning_rate  \\\n",
       "0                            NaN                           NaN   \n",
       "1                            NaN                           NaN   \n",
       "2                            NaN                           NaN   \n",
       "3                            NaN                           NaN   \n",
       "4                            NaN                           NaN   \n",
       "\n",
       "  params.learning_rate_schedule params.training_max_epochs  \n",
       "0                           NaN                        NaN  \n",
       "1                           NaN                        NaN  \n",
       "2                           NaN                        NaN  \n",
       "3                           NaN                        NaN  \n",
       "4                           NaN                        NaN  \n",
       "\n",
       "[5 rows x 118 columns]"
      ]
     },
     "execution_count": 18,
     "metadata": {},
     "output_type": "execute_result"
    }
   ],
   "source": [
    "all_runs_df.head()"
   ]
  },
  {
   "cell_type": "code",
   "execution_count": 19,
   "metadata": {
    "tags": []
   },
   "outputs": [
    {
     "data": {
      "text/html": [
       "<div>\n",
       "<style scoped>\n",
       "    .dataframe tbody tr th:only-of-type {\n",
       "        vertical-align: middle;\n",
       "    }\n",
       "\n",
       "    .dataframe tbody tr th {\n",
       "        vertical-align: top;\n",
       "    }\n",
       "\n",
       "    .dataframe thead th {\n",
       "        text-align: right;\n",
       "    }\n",
       "</style>\n",
       "<table border=\"1\" class=\"dataframe\">\n",
       "  <thead>\n",
       "    <tr style=\"text-align: right;\">\n",
       "      <th></th>\n",
       "      <th>run_id</th>\n",
       "      <th>experiment_name</th>\n",
       "    </tr>\n",
       "  </thead>\n",
       "  <tbody>\n",
       "    <tr>\n",
       "      <th>0</th>\n",
       "      <td>careful_calypso_kfxyvw94vx</td>\n",
       "      <td>diabetes-training</td>\n",
       "    </tr>\n",
       "    <tr>\n",
       "      <th>1</th>\n",
       "      <td>patient_basin_jdnl1p9w2h</td>\n",
       "      <td>diabetes-training</td>\n",
       "    </tr>\n",
       "    <tr>\n",
       "      <th>2</th>\n",
       "      <td>magenta_eye_67wq3qycmg</td>\n",
       "      <td>diabetes-training</td>\n",
       "    </tr>\n",
       "    <tr>\n",
       "      <th>3</th>\n",
       "      <td>clever_tangelo_xs41b96z3z</td>\n",
       "      <td>diabetes-training</td>\n",
       "    </tr>\n",
       "    <tr>\n",
       "      <th>4</th>\n",
       "      <td>coral_peach_6j5tl7czv7</td>\n",
       "      <td>diabetes-training</td>\n",
       "    </tr>\n",
       "    <tr>\n",
       "      <th>...</th>\n",
       "      <td>...</td>\n",
       "      <td>...</td>\n",
       "    </tr>\n",
       "    <tr>\n",
       "      <th>128</th>\n",
       "      <td>loving_nutmeg_5lyy7j8gqr</td>\n",
       "      <td>explore-images-data</td>\n",
       "    </tr>\n",
       "    <tr>\n",
       "      <th>129</th>\n",
       "      <td>sweet_okra_23ntwkhggy</td>\n",
       "      <td>explore-images-data</td>\n",
       "    </tr>\n",
       "    <tr>\n",
       "      <th>130</th>\n",
       "      <td>shy_caravan_94mrr1tn1r</td>\n",
       "      <td>explore-images-data</td>\n",
       "    </tr>\n",
       "    <tr>\n",
       "      <th>131</th>\n",
       "      <td>hungry_rocket_vfx2ng9ljk</td>\n",
       "      <td>explore-images-data</td>\n",
       "    </tr>\n",
       "    <tr>\n",
       "      <th>132</th>\n",
       "      <td>honest_truck_69h2cmcdrm</td>\n",
       "      <td>explore-images-data-compute-instance</td>\n",
       "    </tr>\n",
       "  </tbody>\n",
       "</table>\n",
       "<p>133 rows × 2 columns</p>\n",
       "</div>"
      ],
      "text/plain": [
       "                         run_id                       experiment_name\n",
       "0    careful_calypso_kfxyvw94vx                     diabetes-training\n",
       "1      patient_basin_jdnl1p9w2h                     diabetes-training\n",
       "2        magenta_eye_67wq3qycmg                     diabetes-training\n",
       "3     clever_tangelo_xs41b96z3z                     diabetes-training\n",
       "4        coral_peach_6j5tl7czv7                     diabetes-training\n",
       "..                          ...                                   ...\n",
       "128    loving_nutmeg_5lyy7j8gqr                   explore-images-data\n",
       "129       sweet_okra_23ntwkhggy                   explore-images-data\n",
       "130      shy_caravan_94mrr1tn1r                   explore-images-data\n",
       "131    hungry_rocket_vfx2ng9ljk                   explore-images-data\n",
       "132     honest_truck_69h2cmcdrm  explore-images-data-compute-instance\n",
       "\n",
       "[133 rows x 2 columns]"
      ]
     },
     "execution_count": 19,
     "metadata": {},
     "output_type": "execute_result"
    }
   ],
   "source": [
    "all_runs_df[[\"run_id\",\"experiment_name\"]]"
   ]
  },
  {
   "cell_type": "code",
   "execution_count": null,
   "metadata": {},
   "outputs": [],
   "source": []
  }
 ],
 "metadata": {
  "kernel_info": {
   "name": "python38-azureml"
  },
  "kernelspec": {
   "display_name": "Python 3 (ipykernel)",
   "language": "python",
   "name": "python3"
  },
  "language_info": {
   "codemirror_mode": {
    "name": "ipython",
    "version": 3
   },
   "file_extension": ".py",
   "mimetype": "text/x-python",
   "name": "python",
   "nbconvert_exporter": "python",
   "pygments_lexer": "ipython3",
   "version": "3.10.11"
  },
  "microsoft": {
   "host": {
    "AzureML": {
     "notebookHasBeenCompleted": true
    }
   }
  },
  "nteract": {
   "version": "nteract-front-end@1.0.0"
  },
  "vscode": {
   "interpreter": {
    "hash": "f2b2cd046deda8eabef1e765a11d0ec9aa9bd1d31d56ce79c815a38c323e14ec"
   }
  }
 },
 "nbformat": 4,
 "nbformat_minor": 4
}
