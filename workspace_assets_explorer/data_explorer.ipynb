{
 "cells": [
  {
   "cell_type": "markdown",
   "metadata": {
    "nteract": {
     "transient": {
      "deleting": false
     }
    }
   },
   "source": [
    "# Azure Machine Learning Data Explorer\n",
    "\n",
    "## Before you start\n",
    "\n",
    "You'll need the latest version of the **azure-ai-ml** package to run the code in this notebook. Run the cell below to verify that it is installed.\n",
    "\n",
    "> **Note**:\n",
    "> If the **azure-ai-ml** package is not installed, run `pip install azure-ai-ml` to install it."
   ]
  },
  {
   "cell_type": "code",
   "execution_count": null,
   "metadata": {
    "tags": []
   },
   "outputs": [],
   "source": [
    "pip install azure-ai-ml azure-identity pandas mlflow==2.19.0 azureml-mlflow"
   ]
  },
  {
   "cell_type": "code",
   "execution_count": 1,
   "metadata": {
    "collapsed": false,
    "gather": {
     "logged": 1666789326586
    },
    "jupyter": {
     "outputs_hidden": false,
     "source_hidden": false
    },
    "nteract": {
     "transient": {
      "deleting": false
     }
    },
    "tags": []
   },
   "outputs": [
    {
     "name": "stdout",
     "output_type": "stream",
     "text": [
      "Name: azure-ai-ml\n",
      "Version: 1.26.0\n",
      "Summary: Microsoft Azure Machine Learning Client Library for Python\n",
      "Home-page: https://github.com/Azure/azure-sdk-for-python\n",
      "Author: Microsoft Corporation\n",
      "Author-email: azuresdkengsysadmins@microsoft.com\n",
      "License: MIT License\n",
      "Location: /anaconda/envs/jupyter_env/lib/python3.10/site-packages\n",
      "Requires: azure-common, azure-core, azure-mgmt-core, azure-monitor-opentelemetry, azure-storage-blob, azure-storage-file-datalake, azure-storage-file-share, colorama, isodate, jsonschema, marshmallow, msrest, pydash, pyjwt, pyyaml, strictyaml, tqdm, typing-extensions\n",
      "Required-by: \n",
      "Note: you may need to restart the kernel to use updated packages.\n"
     ]
    }
   ],
   "source": [
    "pip show azure-ai-ml"
   ]
  },
  {
   "cell_type": "markdown",
   "metadata": {
    "nteract": {
     "transient": {
      "deleting": false
     }
    }
   },
   "source": [
    "## Connect to your workspace\n",
    "\n",
    "With the required SDK packages installed, now you're ready to connect to your workspace.\n",
    "\n",
    "To connect to a workspace, we need identifier parameters - a subscription ID, resource group name, and workspace name. Since you're working with a compute instance, managed by Azure Machine Learning, you can use the default values to connect to the workspace."
   ]
  },
  {
   "cell_type": "code",
   "execution_count": 2,
   "metadata": {
    "collapsed": false,
    "gather": {
     "logged": 1666789343369
    },
    "jupyter": {
     "outputs_hidden": false,
     "source_hidden": false
    },
    "nteract": {
     "transient": {
      "deleting": false
     }
    },
    "tags": []
   },
   "outputs": [],
   "source": [
    "from azure.identity import DefaultAzureCredential, InteractiveBrowserCredential\n",
    "from azure.ai.ml import MLClient\n",
    "\n",
    "try:\n",
    "    credential = DefaultAzureCredential()\n",
    "    # Check if given credential can get token successfully.\n",
    "    credential.get_token(\"https://management.azure.com/.default\")\n",
    "except Exception as ex:\n",
    "    # Fall back to InteractiveBrowserCredential in case DefaultAzureCredential not work\n",
    "    credential = InteractiveBrowserCredential()\n"
   ]
  },
  {
   "cell_type": "code",
   "execution_count": 3,
   "metadata": {
    "tags": []
   },
   "outputs": [
    {
     "name": "stderr",
     "output_type": "stream",
     "text": [
      "Found the config file in: /config.json\n"
     ]
    }
   ],
   "source": [
    "# Get a handle to workspace\n",
    "ml_client = MLClient.from_config(credential=credential)"
   ]
  },
  {
   "cell_type": "markdown",
   "metadata": {},
   "source": [
    "## List all datastores"
   ]
  },
  {
   "cell_type": "code",
   "execution_count": 4,
   "metadata": {
    "tags": []
   },
   "outputs": [
    {
     "name": "stdout",
     "output_type": "stream",
     "text": [
      "blob_images_datastore\n",
      "azureml_globaldatasets\n",
      "blob_training_data\n",
      "workspaceworkingdirectory\n",
      "workspacefilestore\n",
      "workspaceblobstore\n",
      "workspaceartifactstore\n"
     ]
    }
   ],
   "source": [
    "stores = ml_client.datastores.list()\n",
    "for store in stores:\n",
    "    print(store.name)"
   ]
  },
  {
   "cell_type": "code",
   "execution_count": 5,
   "metadata": {
    "tags": []
   },
   "outputs": [
    {
     "name": "stdout",
     "output_type": "stream",
     "text": [
      "account_name: myazuremlwseast229913804\n",
      "container_name: images-data\n",
      "credentials: {}\n",
      "description: Blob Storage for images training data\n",
      "endpoint: core.windows.net\n",
      "id: /subscriptions/a647c11c-fe4c-43c4-b672-963b71adab36/resourceGroups/my-machine-learning-rg-eastus2-112024/providers/Microsoft.MachineLearningServices/workspaces/my-azure-ml-ws-eastus2-112024/datastores/blob_images_datastore\n",
      "name: blob_images_datastore\n",
      "protocol: https\n",
      "tags: {}\n",
      "type: azure_blob\n",
      "\n"
     ]
    }
   ],
   "source": [
    "stores = ml_client.datastores.list()\n",
    "for store in stores:\n",
    "    print(store)\n",
    "    break"
   ]
  },
  {
   "cell_type": "markdown",
   "metadata": {},
   "source": [
    "## List all data assets and their references"
   ]
  },
  {
   "cell_type": "code",
   "execution_count": 6,
   "metadata": {
    "tags": []
   },
   "outputs": [
    {
     "name": "stdout",
     "output_type": "stream",
     "text": [
      "name: diabetes-local, type: uri_file\n",
      "name: diabetes-datastore-path, type: uri_folder\n",
      "name: diabetes-table, type: mltable\n",
      "name: diabetes-training, type: mltable\n",
      "name: oj-training, type: mltable\n",
      "name: dataset, type: uri_folder\n",
      "name: diabetes-data, type: uri_file\n",
      "name: bankmarketing-retrain-data, type: mltable\n",
      "name: images-data-asset, type: uri_folder\n"
     ]
    }
   ],
   "source": [
    "datasets = ml_client.data.list()\n",
    "for dataset in datasets:\n",
    "    print(f\"name: {dataset.name}, type: {dataset.type}\")"
   ]
  },
  {
   "cell_type": "code",
   "execution_count": 7,
   "metadata": {
    "tags": []
   },
   "outputs": [
    {
     "name": "stdout",
     "output_type": "stream",
     "text": [
      "dataset: creation_context:\n",
      "  created_at: '2024-11-17T11:40:58.186156+00:00'\n",
      "  created_by: System Administrator\n",
      "  created_by_type: User\n",
      "  last_modified_at: '2024-11-17T11:40:58.273106+00:00'\n",
      "latest_version: '1'\n",
      "name: diabetes-local\n",
      "properties: {}\n",
      "tags: {}\n",
      "type: uri_file\n",
      "\n",
      "data_asset_reference: creation_context:\n",
      "  created_at: '2024-11-17T11:40:58.246186+00:00'\n",
      "  created_by: System Administrator\n",
      "  created_by_type: User\n",
      "  last_modified_at: '2024-11-17T11:40:58.255065+00:00'\n",
      "description: Data asset pointing to a local file, automatically uploaded to the default\n",
      "  datastore\n",
      "id: /subscriptions/a647c11c-fe4c-43c4-b672-963b71adab36/resourceGroups/my-machine-learning-rg-eastus2-112024/providers/Microsoft.MachineLearningServices/workspaces/my-azure-ml-ws-eastus2-112024/data/diabetes-local/versions/1\n",
      "name: diabetes-local\n",
      "path: azureml://subscriptions/a647c11c-fe4c-43c4-b672-963b71adab36/resourcegroups/my-machine-learning-rg-eastus2-112024/workspaces/my-azure-ml-ws-eastus2-112024/datastores/workspaceblobstore/paths/LocalUpload/d52d15a0d7d1e95b90a03f146099424a/diabetes.csv\n",
      "properties: {}\n",
      "tags: {}\n",
      "type: uri_file\n",
      "version: '1'\n",
      "\n",
      "------\n",
      "dataset: creation_context:\n",
      "  created_at: '2024-11-17T11:41:02.119697+00:00'\n",
      "  created_by: System Administrator\n",
      "  created_by_type: User\n",
      "  last_modified_at: '2024-11-17T11:41:02.198041+00:00'\n",
      "latest_version: '1'\n",
      "name: diabetes-datastore-path\n",
      "properties: {}\n",
      "tags: {}\n",
      "type: uri_folder\n",
      "\n",
      "data_asset_reference: creation_context:\n",
      "  created_at: '2024-11-17T11:41:02.170617+00:00'\n",
      "  created_by: System Administrator\n",
      "  created_by_type: User\n",
      "  last_modified_at: '2024-11-17T11:41:02.179902+00:00'\n",
      "description: Data asset pointing to data-asset-path folder in datastore\n",
      "id: /subscriptions/a647c11c-fe4c-43c4-b672-963b71adab36/resourceGroups/my-machine-learning-rg-eastus2-112024/providers/Microsoft.MachineLearningServices/workspaces/my-azure-ml-ws-eastus2-112024/data/diabetes-datastore-path/versions/1\n",
      "name: diabetes-datastore-path\n",
      "path: azureml://subscriptions/a647c11c-fe4c-43c4-b672-963b71adab36/resourcegroups/my-machine-learning-rg-eastus2-112024/workspaces/my-azure-ml-ws-eastus2-112024/datastores/blob_training_data/paths/data-asset-path/\n",
      "properties: {}\n",
      "tags: {}\n",
      "type: uri_folder\n",
      "version: '1'\n",
      "\n",
      "------\n",
      "dataset: creation_context:\n",
      "  created_at: '2024-11-17T11:41:06.966440+00:00'\n",
      "  created_by: System Administrator\n",
      "  created_by_type: User\n",
      "  last_modified_at: '2024-11-17T11:41:07.039369+00:00'\n",
      "latest_version: '1'\n",
      "name: diabetes-table\n",
      "properties: {}\n",
      "tags: {}\n",
      "type: mltable\n",
      "\n",
      "data_asset_reference: creation_context:\n",
      "  created_at: '2024-11-17T11:41:07.017447+00:00'\n",
      "  created_by: System Administrator\n",
      "  created_by_type: User\n",
      "  last_modified_at: '2024-11-17T11:41:07.025057+00:00'\n",
      "description: MLTable pointing to diabetes.csv in data folder\n",
      "id: /subscriptions/a647c11c-fe4c-43c4-b672-963b71adab36/resourceGroups/my-machine-learning-rg-eastus2-112024/providers/Microsoft.MachineLearningServices/workspaces/my-azure-ml-ws-eastus2-112024/data/diabetes-table/versions/1\n",
      "name: diabetes-table\n",
      "path: azureml://subscriptions/a647c11c-fe4c-43c4-b672-963b71adab36/resourcegroups/my-machine-learning-rg-eastus2-112024/workspaces/my-azure-ml-ws-eastus2-112024/datastores/workspaceblobstore/paths/LocalUpload/58ac422dbe7b4d059d19b1069048a7ad/data/\n",
      "properties: {}\n",
      "tags: {}\n",
      "type: mltable\n",
      "version: '1'\n",
      "\n",
      "------\n",
      "dataset: creation_context:\n",
      "  created_at: '2024-11-17T12:12:24.397306+00:00'\n",
      "  created_by: System Administrator\n",
      "  created_by_type: User\n",
      "  last_modified_at: '2024-11-17T12:12:24.477435+00:00'\n",
      "latest_version: '1'\n",
      "name: diabetes-training\n",
      "properties: {}\n",
      "tags: {}\n",
      "type: mltable\n",
      "\n",
      "data_asset_reference: creation_context:\n",
      "  created_at: '2024-11-17T12:12:24.452059+00:00'\n",
      "  created_by: System Administrator\n",
      "  created_by_type: User\n",
      "  last_modified_at: '2024-11-17T12:12:24.461412+00:00'\n",
      "id: /subscriptions/a647c11c-fe4c-43c4-b672-963b71adab36/resourceGroups/my-machine-learning-rg-eastus2-112024/providers/Microsoft.MachineLearningServices/workspaces/my-azure-ml-ws-eastus2-112024/data/diabetes-training/versions/1\n",
      "name: diabetes-training\n",
      "path: azureml://subscriptions/a647c11c-fe4c-43c4-b672-963b71adab36/resourcegroups/my-machine-learning-rg-eastus2-112024/workspaces/my-azure-ml-ws-eastus2-112024/datastores/workspaceblobstore/paths/LocalUpload/4341ec1ce5c43f4dd1d4c0f00d4ff56a/diabetes-data/\n",
      "properties: {}\n",
      "tags: {}\n",
      "type: mltable\n",
      "version: '1'\n",
      "\n",
      "------\n",
      "dataset: creation_context:\n",
      "  created_at: '2024-11-17T12:12:37.406868+00:00'\n",
      "  created_by: System Administrator\n",
      "  created_by_type: User\n",
      "  last_modified_at: '2024-11-17T12:12:37.481136+00:00'\n",
      "latest_version: '1'\n",
      "name: oj-training\n",
      "properties: {}\n",
      "tags: {}\n",
      "type: mltable\n",
      "\n",
      "data_asset_reference: creation_context:\n",
      "  created_at: '2024-11-17T12:12:37.457595+00:00'\n",
      "  created_by: System Administrator\n",
      "  created_by_type: User\n",
      "  last_modified_at: '2024-11-17T12:12:37.466113+00:00'\n",
      "id: /subscriptions/a647c11c-fe4c-43c4-b672-963b71adab36/resourceGroups/my-machine-learning-rg-eastus2-112024/providers/Microsoft.MachineLearningServices/workspaces/my-azure-ml-ws-eastus2-112024/data/oj-training/versions/1\n",
      "name: oj-training\n",
      "path: azureml://subscriptions/a647c11c-fe4c-43c4-b672-963b71adab36/resourcegroups/my-machine-learning-rg-eastus2-112024/workspaces/my-azure-ml-ws-eastus2-112024/datastores/workspaceblobstore/paths/LocalUpload/60bed89158b76c71ba113f6d1e28e1b4/orange-juice-data/\n",
      "properties: {}\n",
      "tags: {}\n",
      "type: mltable\n",
      "version: '1'\n",
      "\n",
      "------\n",
      "dataset: creation_context:\n",
      "  created_at: '2024-11-17T12:46:53.009712+00:00'\n",
      "  created_by: System Administrator\n",
      "  created_by_type: User\n",
      "  last_modified_at: '2024-11-17T12:46:53.089713+00:00'\n",
      "latest_version: 1a2d6a8f\n",
      "name: dataset\n",
      "properties: {}\n",
      "tags: {}\n",
      "type: uri_folder\n",
      "\n",
      "data_asset_reference: creation_context:\n",
      "  created_at: '2024-11-17T12:46:53.062984+00:00'\n",
      "  created_by: System Administrator\n",
      "  created_by_type: User\n",
      "  last_modified_at: '2024-11-17T12:46:53.070279+00:00'\n",
      "id: /subscriptions/a647c11c-fe4c-43c4-b672-963b71adab36/resourceGroups/my-machine-learning-rg-eastus2-112024/providers/Microsoft.MachineLearningServices/workspaces/my-azure-ml-ws-eastus2-112024/data/dataset/versions/1a2d6a8f\n",
      "name: dataset\n",
      "path: http://dummy\n",
      "properties:\n",
      "  mlflow.dataset.profile: '{\"features_shape\": [7000, 8], \"features_size\": 56000, \"features_nbytes\":\n",
      "    448000, \"targets_shape\": [7000], \"targets_size\": 7000, \"targets_nbytes\": 56000}'\n",
      "  mlflow.dataset.schema: '{\"mlflow_tensorspec\": {\"features\": \"[{\\\"type\\\": \\\"tensor\\\",\n",
      "    \\\"tensor-spec\\\": {\\\"dtype\\\": \\\"float64\\\", \\\"shape\\\": [-1, 8]}}]\", \"targets\": \"[{\\\"type\\\":\n",
      "    \\\"tensor\\\", \\\"tensor-spec\\\": {\\\"dtype\\\": \\\"int64\\\", \\\"shape\\\": [-1]}}]\"}}'\n",
      "  mlflow.dataset.source: '{\"tags\": {\"mlflow.user\": \"azureuser\", \"mlflow.source.name\":\n",
      "    \"/anaconda/envs/azureml_py38/lib/python3.10/site-packages/ipykernel_launcher.py\",\n",
      "    \"mlflow.source.type\": \"LOCAL\"}}'\n",
      "  mlflow.dataset.sourceType: code\n",
      "tags: {}\n",
      "type: uri_folder\n",
      "version: 1a2d6a8f\n",
      "\n",
      "------\n",
      "dataset: creation_context:\n",
      "  created_at: '2024-11-17T12:57:40.074301+00:00'\n",
      "  created_by: System Administrator\n",
      "  created_by_type: User\n",
      "  last_modified_at: '2024-11-17T12:57:40.269067+00:00'\n",
      "latest_version: '1'\n",
      "name: diabetes-data\n",
      "properties: {}\n",
      "tags: {}\n",
      "type: uri_file\n",
      "\n",
      "data_asset_reference: creation_context:\n",
      "  created_at: '2024-11-17T12:57:40.174463+00:00'\n",
      "  created_by: System Administrator\n",
      "  created_by_type: User\n",
      "  last_modified_at: '2024-11-17T12:57:40.246698+00:00'\n",
      "id: /subscriptions/a647c11c-fe4c-43c4-b672-963b71adab36/resourceGroups/my-machine-learning-rg-eastus2-112024/providers/Microsoft.MachineLearningServices/workspaces/my-azure-ml-ws-eastus2-112024/data/diabetes-data/versions/1\n",
      "name: diabetes-data\n",
      "path: azureml://subscriptions/a647c11c-fe4c-43c4-b672-963b71adab36/resourcegroups/my-machine-learning-rg-eastus2-112024/workspaces/my-azure-ml-ws-eastus2-112024/datastores/workspaceblobstore/paths/LocalUpload/d52d15a0d7d1e95b90a03f146099424a/diabetes.csv\n",
      "properties: {}\n",
      "tags: {}\n",
      "type: uri_file\n",
      "version: '1'\n",
      "\n",
      "------\n",
      "dataset: creation_context:\n",
      "  created_at: '2025-01-22T13:22:09.436972+00:00'\n",
      "  created_by: System Administrator\n",
      "  created_by_type: User\n",
      "  last_modified_at: '2025-01-22T13:22:09.540833+00:00'\n",
      "latest_version: '1'\n",
      "name: bankmarketing-retrain-data\n",
      "properties: {}\n",
      "tags: {}\n",
      "type: mltable\n",
      "\n",
      "data_asset_reference: creation_context:\n",
      "  created_at: '2025-01-22T13:22:09.507929+00:00'\n",
      "  created_by: System Administrator\n",
      "  created_by_type: User\n",
      "  last_modified_at: '2025-01-22T13:22:09.515802+00:00'\n",
      "description: Updated training dataset, includes validation data.\n",
      "id: /subscriptions/a647c11c-fe4c-43c4-b672-963b71adab36/resourceGroups/my-machine-learning-rg-eastus2-112024/providers/Microsoft.MachineLearningServices/workspaces/my-azure-ml-ws-eastus2-112024/data/bankmarketing-retrain-data/versions/1\n",
      "name: bankmarketing-retrain-data\n",
      "path: azureml://subscriptions/a647c11c-fe4c-43c4-b672-963b71adab36/resourcegroups/my-machine-learning-rg-eastus2-112024/workspaces/my-azure-ml-ws-eastus2-112024/datastores/workspaceblobstore/paths/LocalUpload/d27d37f852b2715b795c3d3b4a1d029f/retrained-mltable-folder/\n",
      "properties: {}\n",
      "tags: {}\n",
      "type: mltable\n",
      "version: '1'\n",
      "\n",
      "------\n",
      "dataset: creation_context:\n",
      "  created_at: '2025-03-16T12:42:56.761138+00:00'\n",
      "  created_by: System Administrator\n",
      "  created_by_type: User\n",
      "  last_modified_at: '2025-03-16T12:42:56.871088+00:00'\n",
      "latest_version: '1'\n",
      "name: images-data-asset\n",
      "properties: {}\n",
      "tags: {}\n",
      "type: uri_folder\n",
      "\n",
      "data_asset_reference: creation_context:\n",
      "  created_at: '2025-03-16T12:42:56.835021+00:00'\n",
      "  created_by: System Administrator\n",
      "  created_by_type: User\n",
      "  last_modified_at: '2025-03-16T12:42:56.843037+00:00'\n",
      "description: Data asset pointing to images data-asset-path folder in datastore\n",
      "id: /subscriptions/a647c11c-fe4c-43c4-b672-963b71adab36/resourceGroups/my-machine-learning-rg-eastus2-112024/providers/Microsoft.MachineLearningServices/workspaces/my-azure-ml-ws-eastus2-112024/data/images-data-asset/versions/1\n",
      "name: images-data-asset\n",
      "path: azureml://subscriptions/a647c11c-fe4c-43c4-b672-963b71adab36/resourcegroups/my-machine-learning-rg-eastus2-112024/workspaces/my-azure-ml-ws-eastus2-112024/datastores/blob_images_datastore/paths/\n",
      "properties: {}\n",
      "tags: {}\n",
      "type: uri_folder\n",
      "version: '1'\n",
      "\n",
      "------\n"
     ]
    }
   ],
   "source": [
    "datasets = ml_client.data.list()\n",
    "\n",
    "for dataset in datasets:\n",
    "    print(f\"dataset: {dataset}\")\n",
    "    data_asset_reference = ml_client.data.get(dataset.name, version=dataset.latest_version)\n",
    "    print(f\"data_asset_reference: {data_asset_reference}\")\n",
    "    print(\"------\")\n",
    "    # break"
   ]
  },
  {
   "cell_type": "code",
   "execution_count": null,
   "metadata": {},
   "outputs": [],
   "source": []
  }
 ],
 "metadata": {
  "kernel_info": {
   "name": "python38-azureml"
  },
  "kernelspec": {
   "display_name": "Python 3 (ipykernel)",
   "language": "python",
   "name": "python3"
  },
  "language_info": {
   "codemirror_mode": {
    "name": "ipython",
    "version": 3
   },
   "file_extension": ".py",
   "mimetype": "text/x-python",
   "name": "python",
   "nbconvert_exporter": "python",
   "pygments_lexer": "ipython3",
   "version": "3.10.11"
  },
  "microsoft": {
   "host": {
    "AzureML": {
     "notebookHasBeenCompleted": true
    }
   }
  },
  "nteract": {
   "version": "nteract-front-end@1.0.0"
  },
  "vscode": {
   "interpreter": {
    "hash": "f2b2cd046deda8eabef1e765a11d0ec9aa9bd1d31d56ce79c815a38c323e14ec"
   }
  }
 },
 "nbformat": 4,
 "nbformat_minor": 4
}
