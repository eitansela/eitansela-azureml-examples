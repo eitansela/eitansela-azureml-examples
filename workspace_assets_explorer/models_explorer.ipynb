{
 "cells": [
  {
   "cell_type": "markdown",
   "metadata": {
    "nteract": {
     "transient": {
      "deleting": false
     }
    }
   },
   "source": [
    "# Azure Machine Learning Models Explorer\n",
    "\n",
    "## Before you start\n",
    "\n",
    "You'll need the latest version of the **azure-ai-ml** package to run the code in this notebook. Run the cell below to verify that it is installed.\n",
    "\n",
    "> **Note**:\n",
    "> If the **azure-ai-ml** package is not installed, run `pip install azure-ai-ml` to install it."
   ]
  },
  {
   "cell_type": "code",
   "execution_count": null,
   "metadata": {
    "tags": []
   },
   "outputs": [],
   "source": [
    "pip install azure-ai-ml azure-identity pandas mlflow==2.19.0 azureml-mlflow"
   ]
  },
  {
   "cell_type": "code",
   "execution_count": 1,
   "metadata": {
    "collapsed": false,
    "gather": {
     "logged": 1666789326586
    },
    "jupyter": {
     "outputs_hidden": false,
     "source_hidden": false
    },
    "nteract": {
     "transient": {
      "deleting": false
     }
    },
    "tags": []
   },
   "outputs": [
    {
     "name": "stdout",
     "output_type": "stream",
     "text": [
      "Name: azure-ai-ml\n",
      "Version: 1.26.0\n",
      "Summary: Microsoft Azure Machine Learning Client Library for Python\n",
      "Home-page: https://github.com/Azure/azure-sdk-for-python\n",
      "Author: Microsoft Corporation\n",
      "Author-email: azuresdkengsysadmins@microsoft.com\n",
      "License: MIT License\n",
      "Location: /anaconda/envs/jupyter_env/lib/python3.10/site-packages\n",
      "Requires: azure-common, azure-core, azure-mgmt-core, azure-monitor-opentelemetry, azure-storage-blob, azure-storage-file-datalake, azure-storage-file-share, colorama, isodate, jsonschema, marshmallow, msrest, pydash, pyjwt, pyyaml, strictyaml, tqdm, typing-extensions\n",
      "Required-by: \n",
      "Note: you may need to restart the kernel to use updated packages.\n"
     ]
    }
   ],
   "source": [
    "pip show azure-ai-ml"
   ]
  },
  {
   "cell_type": "markdown",
   "metadata": {
    "nteract": {
     "transient": {
      "deleting": false
     }
    }
   },
   "source": [
    "## Connect to your workspace\n",
    "\n",
    "With the required SDK packages installed, now you're ready to connect to your workspace.\n",
    "\n",
    "To connect to a workspace, we need identifier parameters - a subscription ID, resource group name, and workspace name. Since you're working with a compute instance, managed by Azure Machine Learning, you can use the default values to connect to the workspace."
   ]
  },
  {
   "cell_type": "code",
   "execution_count": 2,
   "metadata": {
    "collapsed": false,
    "gather": {
     "logged": 1666789343369
    },
    "jupyter": {
     "outputs_hidden": false,
     "source_hidden": false
    },
    "nteract": {
     "transient": {
      "deleting": false
     }
    },
    "tags": []
   },
   "outputs": [],
   "source": [
    "from azure.identity import DefaultAzureCredential, InteractiveBrowserCredential\n",
    "from azure.ai.ml import MLClient\n",
    "\n",
    "try:\n",
    "    credential = DefaultAzureCredential()\n",
    "    # Check if given credential can get token successfully.\n",
    "    credential.get_token(\"https://management.azure.com/.default\")\n",
    "except Exception as ex:\n",
    "    # Fall back to InteractiveBrowserCredential in case DefaultAzureCredential not work\n",
    "    credential = InteractiveBrowserCredential()\n"
   ]
  },
  {
   "cell_type": "code",
   "execution_count": 3,
   "metadata": {
    "tags": []
   },
   "outputs": [
    {
     "name": "stderr",
     "output_type": "stream",
     "text": [
      "Found the config file in: /config.json\n"
     ]
    }
   ],
   "source": [
    "# Get a handle to workspace\n",
    "ml_client = MLClient.from_config(credential=credential)"
   ]
  },
  {
   "cell_type": "markdown",
   "metadata": {},
   "source": [
    "## List all models"
   ]
  },
  {
   "cell_type": "code",
   "execution_count": 4,
   "metadata": {
    "tags": []
   },
   "outputs": [
    {
     "data": {
      "text/plain": [
       "51"
      ]
     },
     "execution_count": 4,
     "metadata": {},
     "output_type": "execute_result"
    }
   ],
   "source": [
    "models = [run for run in ml_client.models.list()]\n",
    "len(models)"
   ]
  },
  {
   "cell_type": "code",
   "execution_count": 5,
   "metadata": {
    "tags": []
   },
   "outputs": [
    {
     "name": "stdout",
     "output_type": "stream",
     "text": [
      "azureml_c33239ff-594c-40c3-8326-5e446eb932ad_output_mlflow_log_model_1790341286\n",
      "azureml_clever_tangelo_xs41b96z3z_output_mlflow_log_model_2056784825\n",
      "azureml_837f0b2e-2094-4fa5-8400-f6750e19363f_output_mlflow_log_model_2056784825\n",
      "azureml_837f0b2e-2094-4fa5-8400-f6750e19363f_output_model_output\n",
      "azureml_cyan_coconut_6fpfzhd633_output_mlflow_log_model_1164200200\n",
      "azureml_stoic_kitchen_2hcj7g3cdj_output_mlflow_log_model_1164200200\n",
      "azureml_zen_oil_fgfxhhkkvs_output_mlflow_log_model_1783525909\n",
      "azureml_bold_picture_x3ftcl19dk_output_mlflow_log_model_2136590513\n",
      "mlflow-diabetes\n",
      "azureml_dreamy_sun_7fyvzzfzh2_output_mlflow_log_model_1220830416\n",
      "azureml_dreamy_sun_7fyvzzfzh2_output_mlflow_log_model_1277027368\n",
      "azureml_dreamy_sun_7fyvzzfzh2_output_mlflow_log_model_1448789456\n",
      "azureml_dreamy_sun_7fyvzzfzh2_output_mlflow_log_model_2002538904\n",
      "azureml_dreamy_sun_7fyvzzfzh2_output_mlflow_log_model_1537845419\n",
      "azureml_dreamy_sun_7fyvzzfzh2_output_mlflow_log_model_1708320209\n",
      "azureml_dreamy_sun_7fyvzzfzh2_output_mlflow_log_model_177379326\n",
      "azureml_dreamy_sun_7fyvzzfzh2_output_mlflow_log_model_995727305\n",
      "azureml_dreamy_sun_7fyvzzfzh2_output_mlflow_log_model_1053648601\n",
      "azureml_dreamy_sun_7fyvzzfzh2_output_mlflow_log_model_644515573\n",
      "azureml_blue_snail_b6rj5p5z09_output_mlflow_log_model_376621279\n",
      "azureml_blue_snail_b6rj5p5z09_output_mlflow_log_model_1837806869\n",
      "azureml_blue_snail_b6rj5p5z09_output_mlflow_log_model_1865391667\n",
      "azureml_blue_snail_b6rj5p5z09_output_mlflow_log_model_1260709953\n",
      "azureml_blue_snail_b6rj5p5z09_output_mlflow_log_model_1748757663\n",
      "azureml_blue_snail_b6rj5p5z09_output_mlflow_log_model_2129472711\n",
      "azureml_blue_snail_b6rj5p5z09_output_mlflow_log_model_1741084308\n",
      "azureml_blue_snail_b6rj5p5z09_output_mlflow_log_model_1859297791\n",
      "azureml_blue_snail_b6rj5p5z09_output_mlflow_log_model_1780107307\n",
      "azureml_blue_snail_b6rj5p5z09_output_mlflow_log_model_1626273544\n",
      "azureml_good_arch_yw3lkwkm4w_0_output_mlflow_log_model_1829418100\n",
      "azureml_good_arch_yw3lkwkm4w_1_output_mlflow_log_model_1829418100\n",
      "azureml_good_arch_yw3lkwkm4w_2_output_mlflow_log_model_728894403\n",
      "azureml_good_arch_yw3lkwkm4w_3_output_mlflow_log_model_728894403\n",
      "azureml_neat_caravan_bz7stnzzwv_0_output_mlflow_log_model_1680230566\n",
      "azureml_neat_caravan_bz7stnzzwv_1_output_mlflow_log_model_1680230566\n",
      "azureml_good_arch_yw3lkwkm4w_4_output_mlflow_log_model_1014058477\n",
      "azureml_neat_caravan_bz7stnzzwv_2_output_mlflow_log_model_1680230566\n",
      "azureml_magenta_nest_rqpswx6g5l_0_output_mlflow_log_model_274128187\n",
      "azureml_magenta_nest_rqpswx6g5l_1_output_mlflow_log_model_274128187\n",
      "azureml_neat_caravan_bz7stnzzwv_3_output_mlflow_log_model_435647003\n",
      "azureml_magenta_nest_rqpswx6g5l_2_output_mlflow_log_model_1680230566\n",
      "azureml_magenta_nest_rqpswx6g5l_3_output_mlflow_log_model_1014058477\n",
      "azureml_magenta_nest_rqpswx6g5l_4_output_mlflow_log_model_1680230566\n",
      "azureml_neat_caravan_bz7stnzzwv_4_output_mlflow_log_model_1680230566\n",
      "bankmarketing-model\n",
      "azureml_cyan_gold_kvs4mswvdm_0_output_mlflow_log_model_274128187\n",
      "azureml_cyan_gold_kvs4mswvdm_1_output_mlflow_log_model_1680230566\n",
      "azureml_cyan_gold_kvs4mswvdm_2_output_mlflow_log_model_1680230566\n",
      "azureml_cyan_gold_kvs4mswvdm_3_output_mlflow_log_model_1014058477\n",
      "azureml_cyan_gold_kvs4mswvdm_4_output_mlflow_log_model_728894403\n",
      "hardware-performance-model\n"
     ]
    }
   ],
   "source": [
    "for model in models:\n",
    "    print(model.name)"
   ]
  },
  {
   "cell_type": "markdown",
   "metadata": {},
   "source": [
    "## Print model data"
   ]
  },
  {
   "cell_type": "code",
   "execution_count": 6,
   "metadata": {
    "tags": []
   },
   "outputs": [
    {
     "name": "stdout",
     "output_type": "stream",
     "text": [
      "creation_context:\n",
      "  created_at: '2024-11-17T12:47:02.826872+00:00'\n",
      "  created_by: System Administrator\n",
      "  created_by_type: User\n",
      "  last_modified_at: '2024-11-17T12:47:02.826872+00:00'\n",
      "  last_modified_by: System Administrator\n",
      "  last_modified_by_type: User\n",
      "id: azureml:/subscriptions/a647c11c-fe4c-43c4-b672-963b71adab36/resourceGroups/my-machine-learning-rg-eastus2-112024/providers/Microsoft.MachineLearningServices/workspaces/my-azure-ml-ws-eastus2-112024/models/azureml_c33239ff-594c-40c3-8326-5e446eb932ad_output_mlflow_log_model_1790341286\n",
      "name: azureml_c33239ff-594c-40c3-8326-5e446eb932ad_output_mlflow_log_model_1790341286\n",
      "properties: {}\n",
      "tags: {}\n",
      "type: custom_model\n",
      "\n"
     ]
    }
   ],
   "source": [
    "print(models[0])"
   ]
  },
  {
   "cell_type": "markdown",
   "metadata": {},
   "source": [
    "## Get models data with `MLFlow`"
   ]
  },
  {
   "cell_type": "code",
   "execution_count": 7,
   "metadata": {
    "tags": []
   },
   "outputs": [],
   "source": [
    "# azureml_tracking_uri = ml_client.workspaces.get(\n",
    "#     ml_client.workspace_name\n",
    "# ).mlflow_tracking_uri\n",
    "# azureml_tracking_uri\n",
    "\n",
    "# mlflow.set_tracking_uri(azureml_tracking_uri)"
   ]
  },
  {
   "cell_type": "code",
   "execution_count": 8,
   "metadata": {
    "tags": []
   },
   "outputs": [
    {
     "name": "stderr",
     "output_type": "stream",
     "text": [
      "/anaconda/envs/jupyter_env/lib/python3.10/site-packages/azureml/mlflow/_protos/aml_service_pb2.py:10: UserWarning: google.protobuf.service module is deprecated. RPC implementations should provide code generator plugins which generate code specific to the RPC implementation. service.py will be removed in Jan 2025\n",
      "  from google.protobuf import service as _service\n"
     ]
    }
   ],
   "source": [
    "import mlflow\n",
    "\n",
    "client = mlflow.tracking.MlflowClient()"
   ]
  },
  {
   "cell_type": "markdown",
   "metadata": {},
   "source": [
    "## Search for registered models"
   ]
  },
  {
   "cell_type": "code",
   "execution_count": 9,
   "metadata": {
    "tags": []
   },
   "outputs": [],
   "source": [
    "registered_models = mlflow.search_registered_models()"
   ]
  },
  {
   "cell_type": "code",
   "execution_count": 10,
   "metadata": {
    "tags": []
   },
   "outputs": [
    {
     "data": {
      "text/plain": [
       "51"
      ]
     },
     "execution_count": 10,
     "metadata": {},
     "output_type": "execute_result"
    }
   ],
   "source": [
    "len(registered_models)"
   ]
  },
  {
   "cell_type": "code",
   "execution_count": 11,
   "metadata": {
    "tags": []
   },
   "outputs": [
    {
     "data": {
      "text/plain": [
       "<RegisteredModel: aliases={}, creation_timestamp=1731847622826, description='', last_updated_timestamp=1731847622826, latest_versions=[], name='azureml_c33239ff-594c-40c3-8326-5e446eb932ad_output_mlflow_log_model_1790341286', tags={}>"
      ]
     },
     "execution_count": 11,
     "metadata": {},
     "output_type": "execute_result"
    }
   ],
   "source": [
    "registered_models[0]"
   ]
  },
  {
   "cell_type": "code",
   "execution_count": 12,
   "metadata": {
    "tags": []
   },
   "outputs": [
    {
     "name": "stdout",
     "output_type": "stream",
     "text": [
      "azureml_c33239ff-594c-40c3-8326-5e446eb932ad_output_mlflow_log_model_1790341286\n",
      "azureml_clever_tangelo_xs41b96z3z_output_mlflow_log_model_2056784825\n",
      "azureml_837f0b2e-2094-4fa5-8400-f6750e19363f_output_mlflow_log_model_2056784825\n",
      "azureml_837f0b2e-2094-4fa5-8400-f6750e19363f_output_model_output\n",
      "azureml_cyan_coconut_6fpfzhd633_output_mlflow_log_model_1164200200\n",
      "azureml_stoic_kitchen_2hcj7g3cdj_output_mlflow_log_model_1164200200\n",
      "azureml_zen_oil_fgfxhhkkvs_output_mlflow_log_model_1783525909\n",
      "azureml_bold_picture_x3ftcl19dk_output_mlflow_log_model_2136590513\n",
      "mlflow-diabetes\n",
      "azureml_dreamy_sun_7fyvzzfzh2_output_mlflow_log_model_1220830416\n",
      "azureml_dreamy_sun_7fyvzzfzh2_output_mlflow_log_model_1277027368\n",
      "azureml_dreamy_sun_7fyvzzfzh2_output_mlflow_log_model_1448789456\n",
      "azureml_dreamy_sun_7fyvzzfzh2_output_mlflow_log_model_2002538904\n",
      "azureml_dreamy_sun_7fyvzzfzh2_output_mlflow_log_model_1537845419\n",
      "azureml_dreamy_sun_7fyvzzfzh2_output_mlflow_log_model_1708320209\n",
      "azureml_dreamy_sun_7fyvzzfzh2_output_mlflow_log_model_177379326\n",
      "azureml_dreamy_sun_7fyvzzfzh2_output_mlflow_log_model_995727305\n",
      "azureml_dreamy_sun_7fyvzzfzh2_output_mlflow_log_model_1053648601\n",
      "azureml_dreamy_sun_7fyvzzfzh2_output_mlflow_log_model_644515573\n",
      "azureml_blue_snail_b6rj5p5z09_output_mlflow_log_model_376621279\n",
      "azureml_blue_snail_b6rj5p5z09_output_mlflow_log_model_1837806869\n",
      "azureml_blue_snail_b6rj5p5z09_output_mlflow_log_model_1865391667\n",
      "azureml_blue_snail_b6rj5p5z09_output_mlflow_log_model_1260709953\n",
      "azureml_blue_snail_b6rj5p5z09_output_mlflow_log_model_1748757663\n",
      "azureml_blue_snail_b6rj5p5z09_output_mlflow_log_model_2129472711\n",
      "azureml_blue_snail_b6rj5p5z09_output_mlflow_log_model_1741084308\n",
      "azureml_blue_snail_b6rj5p5z09_output_mlflow_log_model_1859297791\n",
      "azureml_blue_snail_b6rj5p5z09_output_mlflow_log_model_1780107307\n",
      "azureml_blue_snail_b6rj5p5z09_output_mlflow_log_model_1626273544\n",
      "azureml_good_arch_yw3lkwkm4w_0_output_mlflow_log_model_1829418100\n",
      "azureml_good_arch_yw3lkwkm4w_1_output_mlflow_log_model_1829418100\n",
      "azureml_good_arch_yw3lkwkm4w_2_output_mlflow_log_model_728894403\n",
      "azureml_good_arch_yw3lkwkm4w_3_output_mlflow_log_model_728894403\n",
      "azureml_neat_caravan_bz7stnzzwv_0_output_mlflow_log_model_1680230566\n",
      "azureml_neat_caravan_bz7stnzzwv_1_output_mlflow_log_model_1680230566\n",
      "azureml_good_arch_yw3lkwkm4w_4_output_mlflow_log_model_1014058477\n",
      "azureml_neat_caravan_bz7stnzzwv_2_output_mlflow_log_model_1680230566\n",
      "azureml_magenta_nest_rqpswx6g5l_0_output_mlflow_log_model_274128187\n",
      "azureml_magenta_nest_rqpswx6g5l_1_output_mlflow_log_model_274128187\n",
      "azureml_neat_caravan_bz7stnzzwv_3_output_mlflow_log_model_435647003\n",
      "azureml_magenta_nest_rqpswx6g5l_2_output_mlflow_log_model_1680230566\n",
      "azureml_magenta_nest_rqpswx6g5l_3_output_mlflow_log_model_1014058477\n",
      "azureml_magenta_nest_rqpswx6g5l_4_output_mlflow_log_model_1680230566\n",
      "azureml_neat_caravan_bz7stnzzwv_4_output_mlflow_log_model_1680230566\n",
      "bankmarketing-model\n",
      "azureml_cyan_gold_kvs4mswvdm_0_output_mlflow_log_model_274128187\n",
      "azureml_cyan_gold_kvs4mswvdm_1_output_mlflow_log_model_1680230566\n",
      "azureml_cyan_gold_kvs4mswvdm_2_output_mlflow_log_model_1680230566\n",
      "azureml_cyan_gold_kvs4mswvdm_3_output_mlflow_log_model_1014058477\n",
      "azureml_cyan_gold_kvs4mswvdm_4_output_mlflow_log_model_728894403\n",
      "hardware-performance-model\n"
     ]
    }
   ],
   "source": [
    "for model in registered_models:\n",
    "    print(f\"{model.name}\")"
   ]
  },
  {
   "cell_type": "markdown",
   "metadata": {},
   "source": [
    "## Search for model versions"
   ]
  },
  {
   "cell_type": "code",
   "execution_count": 13,
   "metadata": {
    "tags": []
   },
   "outputs": [],
   "source": [
    "model_versions=mlflow.search_model_versions()"
   ]
  },
  {
   "cell_type": "code",
   "execution_count": 14,
   "metadata": {},
   "outputs": [
    {
     "data": {
      "text/plain": [
       "4"
      ]
     },
     "execution_count": 14,
     "metadata": {},
     "output_type": "execute_result"
    }
   ],
   "source": [
    "len(model_versions)"
   ]
  },
  {
   "cell_type": "code",
   "execution_count": 15,
   "metadata": {
    "tags": []
   },
   "outputs": [
    {
     "data": {
      "text/plain": [
       "[<ModelVersion: aliases=[], creation_timestamp=1737552017421, current_stage='None', description='my sample regression model', last_updated_timestamp=1737552017421, name='hardware-performance-model', run_id='cyan_gold_kvs4mswvdm_1', run_link='', source='', status='READY', status_message='', tags={}, user_id='', version='1'>,\n",
       " <ModelVersion: aliases=[], creation_timestamp=1737548928408, current_stage='None', description='my sample classification model', last_updated_timestamp=1737548928408, name='bankmarketing-model', run_id='neat_caravan_bz7stnzzwv_3', run_link='', source='', status='READY', status_message='', tags={}, user_id='', version='2'>,\n",
       " <ModelVersion: aliases=[], creation_timestamp=1737547424316, current_stage='None', description='my sample classification model', last_updated_timestamp=1737547424316, name='bankmarketing-model', run_id='neat_caravan_bz7stnzzwv_3', run_link='', source='', status='READY', status_message='', tags={}, user_id='', version='1'>,\n",
       " <ModelVersion: aliases=[], creation_timestamp=1731848990133, current_stage='None', description='Model created from run.', last_updated_timestamp=1731848990133, name='mlflow-diabetes', run_id='bold_picture_x3ftcl19dk', run_link='', source='', status='READY', status_message='', tags={}, user_id='', version='1'>]"
      ]
     },
     "execution_count": 15,
     "metadata": {},
     "output_type": "execute_result"
    }
   ],
   "source": [
    "model_versions"
   ]
  },
  {
   "cell_type": "code",
   "execution_count": 16,
   "metadata": {
    "tags": []
   },
   "outputs": [
    {
     "data": {
      "text/plain": [
       "<ModelVersion: aliases=[], creation_timestamp=1731848990133, current_stage='None', description='Model created from run.', last_updated_timestamp=1731848990133, name='mlflow-diabetes', run_id='bold_picture_x3ftcl19dk', run_link='', source='', status='READY', status_message='', tags={}, user_id='', version='1'>"
      ]
     },
     "execution_count": 16,
     "metadata": {},
     "output_type": "execute_result"
    }
   ],
   "source": [
    "client.get_model_version(\"mlflow-diabetes\", version=1)"
   ]
  },
  {
   "cell_type": "markdown",
   "metadata": {},
   "source": [
    "## Get model Artifacts"
   ]
  },
  {
   "cell_type": "code",
   "execution_count": 17,
   "metadata": {
    "tags": []
   },
   "outputs": [
    {
     "data": {
      "text/plain": [
       "<ModelVersion: aliases=[], creation_timestamp=1731848990133, current_stage='None', description='Model created from run.', last_updated_timestamp=1731848990133, name='mlflow-diabetes', run_id='bold_picture_x3ftcl19dk', run_link='', source='', status='READY', status_message='', tags={}, user_id='', version='1'>"
      ]
     },
     "execution_count": 17,
     "metadata": {},
     "output_type": "execute_result"
    }
   ],
   "source": [
    "model_versions[3]"
   ]
  },
  {
   "cell_type": "code",
   "execution_count": 18,
   "metadata": {
    "tags": []
   },
   "outputs": [
    {
     "data": {
      "text/plain": [
       "('bold_picture_x3ftcl19dk', 'mlflow-diabetes', '1')"
      ]
     },
     "execution_count": 18,
     "metadata": {},
     "output_type": "execute_result"
    }
   ],
   "source": [
    "run_id=model_versions[3].run_id\n",
    "name=model_versions[3].name\n",
    "version=model_versions[3].version\n",
    "run_id, name, version"
   ]
  },
  {
   "cell_type": "code",
   "execution_count": 19,
   "metadata": {
    "tags": []
   },
   "outputs": [
    {
     "data": {
      "text/plain": [
       "[<FileInfo: file_size=-1, is_dir=True, path='model'>,\n",
       " <FileInfo: file_size=-1, is_dir=True, path='system_logs'>,\n",
       " <FileInfo: file_size=-1, is_dir=True, path='user_logs'>]"
      ]
     },
     "execution_count": 19,
     "metadata": {},
     "output_type": "execute_result"
    }
   ],
   "source": [
    "mlflow.artifacts.list_artifacts(run_id=run_id)"
   ]
  },
  {
   "cell_type": "markdown",
   "metadata": {
    "tags": []
   },
   "source": [
    "## Download model artifacts\n",
    "\n",
    "Ignore the `Error displaying widget: model not found` error"
   ]
  },
  {
   "cell_type": "code",
   "execution_count": 20,
   "metadata": {},
   "outputs": [
    {
     "data": {
      "application/vnd.jupyter.widget-view+json": {
       "model_id": "7db5477336d84898bcbacfe7ff2397dd",
       "version_major": 2,
       "version_minor": 0
      },
      "text/plain": [
       "Downloading artifacts:   0%|          | 0/12 [00:00<?, ?it/s]"
      ]
     },
     "metadata": {},
     "output_type": "display_data"
    }
   ],
   "source": [
    "local_path = mlflow.artifacts.download_artifacts(run_id=run_id, dst_path=f\"./temp/{name}-{run_id}/\")"
   ]
  },
  {
   "cell_type": "code",
   "execution_count": 21,
   "metadata": {},
   "outputs": [
    {
     "data": {
      "text/plain": [
       "'/mnt/batch/tasks/shared/LS_root/mounts/clusters/compute-instance-cpu-1a/code/eitansela-azureml-examples/workspace_assets_explorer/temp/mlflow-diabetes-bold_picture_x3ftcl19dk/'"
      ]
     },
     "execution_count": 21,
     "metadata": {},
     "output_type": "execute_result"
    }
   ],
   "source": [
    "local_path"
   ]
  },
  {
   "cell_type": "code",
   "execution_count": 22,
   "metadata": {
    "tags": []
   },
   "outputs": [
    {
     "name": "stdout",
     "output_type": "stream",
     "text": [
      "total 3.5K\n",
      "-rwxrwxrwx 1 root root 122 Mar 27 07:25 python_env.yaml\n",
      "-rwxrwxrwx 1 root root 169 Mar 27 07:25 conda.yaml\n",
      "-rwxrwxrwx 1 root root  60 Mar 27 07:25 requirements.txt\n",
      "-rwxrwxrwx 1 root root 940 Mar 27 07:25 MLmodel\n",
      "-rwxrwxrwx 1 root root 914 Mar 27 07:25 model.pkl\n"
     ]
    }
   ],
   "source": [
    "!ls -rtlh {local_path}/model"
   ]
  },
  {
   "cell_type": "markdown",
   "metadata": {},
   "source": [
    "## Download all models artifcats and create a ZIP file"
   ]
  },
  {
   "cell_type": "code",
   "execution_count": 23,
   "metadata": {
    "tags": []
   },
   "outputs": [],
   "source": [
    "model_versions=mlflow.search_model_versions()"
   ]
  },
  {
   "cell_type": "code",
   "execution_count": 24,
   "metadata": {
    "tags": []
   },
   "outputs": [
    {
     "data": {
      "text/plain": [
       "4"
      ]
     },
     "execution_count": 24,
     "metadata": {},
     "output_type": "execute_result"
    }
   ],
   "source": [
    "len(model_versions)"
   ]
  },
  {
   "cell_type": "code",
   "execution_count": 25,
   "metadata": {
    "tags": []
   },
   "outputs": [
    {
     "name": "stdout",
     "output_type": "stream",
     "text": [
      "hardware-performance-model-cyan_gold_kvs4mswvdm_1-1\n"
     ]
    },
    {
     "data": {
      "application/vnd.jupyter.widget-view+json": {
       "model_id": "80afae7c1d09448cb9c686bb35b7123f",
       "version_major": 2,
       "version_minor": 0
      },
      "text/plain": [
       "Downloading artifacts:   0%|          | 0/47 [00:00<?, ?it/s]"
      ]
     },
     "metadata": {},
     "output_type": "display_data"
    },
    {
     "name": "stdout",
     "output_type": "stream",
     "text": [
      "bankmarketing-model-neat_caravan_bz7stnzzwv_3-2\n"
     ]
    },
    {
     "data": {
      "application/vnd.jupyter.widget-view+json": {
       "model_id": "cbf7d09395014968bf9d936fef11a756",
       "version_major": 2,
       "version_minor": 0
      },
      "text/plain": [
       "Downloading artifacts:   0%|          | 0/70 [00:00<?, ?it/s]"
      ]
     },
     "metadata": {},
     "output_type": "display_data"
    },
    {
     "name": "stdout",
     "output_type": "stream",
     "text": [
      "bankmarketing-model-neat_caravan_bz7stnzzwv_3-1\n"
     ]
    },
    {
     "data": {
      "application/vnd.jupyter.widget-view+json": {
       "model_id": "2006c1ea3d244278a9f5dee882f60a29",
       "version_major": 2,
       "version_minor": 0
      },
      "text/plain": [
       "Downloading artifacts:   0%|          | 0/70 [00:00<?, ?it/s]"
      ]
     },
     "metadata": {},
     "output_type": "display_data"
    },
    {
     "name": "stdout",
     "output_type": "stream",
     "text": [
      "mlflow-diabetes-bold_picture_x3ftcl19dk-1\n"
     ]
    },
    {
     "data": {
      "application/vnd.jupyter.widget-view+json": {
       "model_id": "d13098ddac7e4315915ef6049205830a",
       "version_major": 2,
       "version_minor": 0
      },
      "text/plain": [
       "Downloading artifacts:   0%|          | 0/12 [00:00<?, ?it/s]"
      ]
     },
     "metadata": {},
     "output_type": "display_data"
    }
   ],
   "source": [
    "for model_version in model_versions:\n",
    "    run_id = model_version.run_id\n",
    "    name = model_version.name\n",
    "    version=model_version.version\n",
    "    print(f\"{name}-{run_id}-{version}\")\n",
    "    local_path = mlflow.artifacts.download_artifacts(run_id=run_id, dst_path=f\"./output/{name}-{run_id}-{version}/\")"
   ]
  },
  {
   "cell_type": "code",
   "execution_count": 26,
   "metadata": {
    "tags": []
   },
   "outputs": [
    {
     "name": "stdout",
     "output_type": "stream",
     "text": [
      "total 0\n",
      "drwxrwxrwx 2 root root 0 Mar 27 07:25 hardware-performance-model-cyan_gold_kvs4mswvdm_1-1\n",
      "drwxrwxrwx 2 root root 0 Mar 27 07:25 bankmarketing-model-neat_caravan_bz7stnzzwv_3-2\n",
      "drwxrwxrwx 2 root root 0 Mar 27 07:25 bankmarketing-model-neat_caravan_bz7stnzzwv_3-1\n",
      "drwxrwxrwx 2 root root 0 Mar 27 07:25 mlflow-diabetes-bold_picture_x3ftcl19dk-1\n"
     ]
    }
   ],
   "source": [
    "!ls -rtlh output"
   ]
  },
  {
   "cell_type": "code",
   "execution_count": 27,
   "metadata": {
    "tags": []
   },
   "outputs": [],
   "source": [
    "from pathlib import Path\n",
    "from zipfile import ZIP_DEFLATED, ZipFile"
   ]
  },
  {
   "cell_type": "code",
   "execution_count": 28,
   "metadata": {
    "tags": []
   },
   "outputs": [],
   "source": [
    "zip_filename = \"models_artifcats.zip\""
   ]
  },
  {
   "cell_type": "code",
   "execution_count": 29,
   "metadata": {
    "tags": []
   },
   "outputs": [],
   "source": [
    "dir = Path(\"output\")\n",
    "with ZipFile(zip_filename, \"w\", ZIP_DEFLATED) as zip_file:\n",
    "    for entry in dir.rglob(\"*\"):\n",
    "        zip_file.write(entry, entry.relative_to(dir))"
   ]
  },
  {
   "cell_type": "code",
   "execution_count": 30,
   "metadata": {
    "tags": []
   },
   "outputs": [
    {
     "name": "stdout",
     "output_type": "stream",
     "text": [
      "-rwxrwxrwx 1 root root 32M Mar 27 07:26 models_artifcats.zip\n"
     ]
    }
   ],
   "source": [
    "!ls -rlth models_artifcats.zip"
   ]
  },
  {
   "cell_type": "code",
   "execution_count": null,
   "metadata": {},
   "outputs": [],
   "source": []
  }
 ],
 "metadata": {
  "kernel_info": {
   "name": "python38-azureml"
  },
  "kernelspec": {
   "display_name": "Python 3 (ipykernel)",
   "language": "python",
   "name": "python3"
  },
  "language_info": {
   "codemirror_mode": {
    "name": "ipython",
    "version": 3
   },
   "file_extension": ".py",
   "mimetype": "text/x-python",
   "name": "python",
   "nbconvert_exporter": "python",
   "pygments_lexer": "ipython3",
   "version": "3.10.11"
  },
  "microsoft": {
   "host": {
    "AzureML": {
     "notebookHasBeenCompleted": true
    }
   }
  },
  "nteract": {
   "version": "nteract-front-end@1.0.0"
  },
  "vscode": {
   "interpreter": {
    "hash": "f2b2cd046deda8eabef1e765a11d0ec9aa9bd1d31d56ce79c815a38c323e14ec"
   }
  }
 },
 "nbformat": 4,
 "nbformat_minor": 4
}
