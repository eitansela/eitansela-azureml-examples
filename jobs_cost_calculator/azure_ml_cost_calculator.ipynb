{
 "cells": [
  {
   "cell_type": "markdown",
   "metadata": {
    "nteract": {
     "transient": {
      "deleting": false
     }
    }
   },
   "source": [
    "# Azure Machine Learning Jobs Cost Calculator\n",
    "\n",
    "## Before you start\n",
    "\n",
    "You'll need the latest version of the **azure-ai-ml** package to run the code in this notebook. Run the cell below to verify that it is installed.\n",
    "\n",
    "> **Note**:\n",
    "> If the **azure-ai-ml** package is not installed, run `pip install azure-ai-ml` to install it."
   ]
  },
  {
   "cell_type": "code",
   "execution_count": null,
   "metadata": {
    "tags": []
   },
   "outputs": [],
   "source": [
    "pip install azure-ai-ml azure-identity"
   ]
  },
  {
   "cell_type": "code",
   "execution_count": null,
   "metadata": {
    "collapsed": false,
    "gather": {
     "logged": 1666789326586
    },
    "jupyter": {
     "outputs_hidden": false,
     "source_hidden": false
    },
    "nteract": {
     "transient": {
      "deleting": false
     }
    },
    "tags": []
   },
   "outputs": [],
   "source": [
    "pip show azure-ai-ml"
   ]
  },
  {
   "cell_type": "markdown",
   "metadata": {
    "nteract": {
     "transient": {
      "deleting": false
     }
    }
   },
   "source": [
    "## Connect to your workspace\n",
    "\n",
    "With the required SDK packages installed, now you're ready to connect to your workspace.\n",
    "\n",
    "To connect to a workspace, we need identifier parameters - a subscription ID, resource group name, and workspace name. Since you're working with a compute instance, managed by Azure Machine Learning, you can use the default values to connect to the workspace."
   ]
  },
  {
   "cell_type": "code",
   "execution_count": 1,
   "metadata": {
    "collapsed": false,
    "gather": {
     "logged": 1666789343369
    },
    "jupyter": {
     "outputs_hidden": false,
     "source_hidden": false
    },
    "nteract": {
     "transient": {
      "deleting": false
     }
    },
    "tags": []
   },
   "outputs": [],
   "source": [
    "from azure.identity import DefaultAzureCredential, InteractiveBrowserCredential\n",
    "from azure.ai.ml import MLClient\n",
    "\n",
    "try:\n",
    "    credential = DefaultAzureCredential()\n",
    "    # Check if given credential can get token successfully.\n",
    "    credential.get_token(\"https://management.azure.com/.default\")\n",
    "except Exception as ex:\n",
    "    # Fall back to InteractiveBrowserCredential in case DefaultAzureCredential not work\n",
    "    credential = InteractiveBrowserCredential()\n"
   ]
  },
  {
   "cell_type": "code",
   "execution_count": 69,
   "metadata": {
    "tags": []
   },
   "outputs": [
    {
     "name": "stderr",
     "output_type": "stream",
     "text": [
      "Found the config file in: /config.json\n",
      "Overriding of current TracerProvider is not allowed\n",
      "Overriding of current LoggerProvider is not allowed\n",
      "Overriding of current MeterProvider is not allowed\n",
      "Attempting to instrument while already instrumented\n",
      "Attempting to instrument while already instrumented\n",
      "Attempting to instrument while already instrumented\n",
      "Attempting to instrument while already instrumented\n",
      "Attempting to instrument while already instrumented\n"
     ]
    }
   ],
   "source": [
    "# Get a handle to workspace\n",
    "ml_client = MLClient.from_config(credential=credential)"
   ]
  },
  {
   "cell_type": "markdown",
   "metadata": {},
   "source": [
    "## Assumptions\n",
    "\n",
    "1. I have jobs with `envType` Tag with values:  `test-env-1`,  `test-env-2` and  `test-env-3`\n",
    "![Jobs List](img/azure_ml_studio_jobs_list.png)\n",
    "\n",
    "2. Compute Cluster named `aml-cluster` with 0-2 `Standard_DS3_v2` VMs\n",
    "![Compute Cluster](img/azure_ml_studio_cluster.png)\n"
   ]
  },
  {
   "cell_type": "markdown",
   "metadata": {},
   "source": [
    "## List Jobs Runs"
   ]
  },
  {
   "cell_type": "code",
   "execution_count": 24,
   "metadata": {
    "tags": []
   },
   "outputs": [
    {
     "data": {
      "text/plain": [
       "69"
      ]
     },
     "execution_count": 24,
     "metadata": {},
     "output_type": "execute_result"
    }
   ],
   "source": [
    "runs = [run for run in ml_client.jobs.list()]\n",
    "len(runs)"
   ]
  },
  {
   "cell_type": "markdown",
   "metadata": {},
   "source": [
    "## Print job data"
   ]
  },
  {
   "cell_type": "code",
   "execution_count": 25,
   "metadata": {
    "tags": []
   },
   "outputs": [
    {
     "name": "stdout",
     "output_type": "stream",
     "text": [
      "type: command\n",
      "outputs:\n",
      "  default:\n",
      "    mode: rw_mount\n",
      "    type: uri_folder\n",
      "    path: azureml://datastores/workspaceartifactstore/ExperimentRun/dcid.dynamic_apple_3kpvlg1l83\n",
      "environment: azureml:AzureML-sklearn-0.24-ubuntu18.04-py37-cpu@latest\n",
      "resources:\n",
      "  instance_count: 1\n",
      "  shm_size: 2g\n",
      "component:\n",
      "  name: dynamic_apple_3kpvlg1l83\n",
      "  display_name: diabetes-pythonv2-train\n",
      "  tags:\n",
      "    envType: test-env-1\n",
      "    _aml_system_ComputeTargetStatus: '{\"AllocationState\":\"steady\",\"PreparingNodeCount\":0,\"RunningNodeCount\":0,\"CurrentNodeCount\":2}'\n",
      "  type: command\n",
      "  outputs:\n",
      "    default:\n",
      "      type: uri_folder\n",
      "      mode: rw_mount\n",
      "  command: python diabetes-training.py\n",
      "  environment: azureml:AzureML-sklearn-0.24-ubuntu18.04-py37-cpu@latest\n",
      "  code: azureml:/subscriptions/a647c11c-fe4c-43c4-b672-963b71adab36/resourceGroups/my-machine-learning-rg-eastus2-112024/providers/Microsoft.MachineLearningServices/workspaces/my-azure-ml-ws-eastus2-112024/codes/17926021-1345-41b9-919e-cb1b7af5f700/versions/1\n",
      "  creation_context:\n",
      "    created_at: '2025-03-23T12:12:39.094726+00:00'\n",
      "    created_by: System Administrator\n",
      "    created_by_type: User\n",
      "  is_deterministic: true\n",
      "compute: azureml:aml-cluster\n",
      "properties:\n",
      "  _azureml.ComputeTargetType: amlctrain\n",
      "  _azureml.ClusterName: aml-cluster\n",
      "  ContentSnapshotId: 4436040a-0b8d-48fb-9141-ac724347f4d5\n",
      "  ProcessInfoFile: azureml-logs/process_info.json\n",
      "  ProcessStatusFile: azureml-logs/process_status.json\n",
      "  StartTimeUtc: '2025-03-23 12:13:04'\n",
      "  EndTimeUtc: '2025-03-23 12:13:12'\n",
      "queue_settings:\n",
      "  job_tier: 'null'\n",
      "services:\n",
      "  Tracking:\n",
      "    endpoint: azureml://eastus2.api.azureml.ms/mlflow/v1.0/subscriptions/a647c11c-fe4c-43c4-b672-963b71adab36/resourceGroups/my-machine-learning-rg-eastus2-112024/providers/Microsoft.MachineLearningServices/workspaces/my-azure-ml-ws-eastus2-112024?\n",
      "    type: Tracking\n",
      "  Studio:\n",
      "    endpoint: https://ml.azure.com/runs/dynamic_apple_3kpvlg1l83?wsid=/subscriptions/a647c11c-fe4c-43c4-b672-963b71adab36/resourcegroups/my-machine-learning-rg-eastus2-112024/workspaces/my-azure-ml-ws-eastus2-112024&tid=c697ddb2-f98a-4c79-b26e-90e161d48098\n",
      "    type: Studio\n",
      "\n"
     ]
    }
   ],
   "source": [
    "for run in runs[0:1]:\n",
    "    print(run)"
   ]
  },
  {
   "cell_type": "code",
   "execution_count": 26,
   "metadata": {
    "tags": []
   },
   "outputs": [],
   "source": [
    "from datetime import datetime\n",
    "\n",
    "def calc_job_duration(job_start_date, job_end_date):\n",
    "    start_date = datetime.strptime(job_start_date, \"%Y-%m-%d %H:%M:%S\")\n",
    "    end_date = datetime.strptime(job_end_date, \"%Y-%m-%d %H:%M:%S\")\n",
    "    difference = end_date - start_date\n",
    "    return(difference.seconds)"
   ]
  },
  {
   "cell_type": "code",
   "execution_count": 27,
   "metadata": {
    "tags": []
   },
   "outputs": [
    {
     "name": "stdout",
     "output_type": "stream",
     "text": [
      "name: dynamic_apple_3kpvlg1l83\n",
      "type: command\n",
      "display_name: diabetes-pythonv2-train\n",
      "envType: test-env-1\n",
      "compute: aml-cluster\n",
      "StartTimeUtc: 2025-03-23 12:13:04\n",
      "EndTimeUtc: 2025-03-23 12:13:12\n",
      "Job Duration (Seconds): 8\n"
     ]
    }
   ],
   "source": [
    "for run in runs[0:1]:\n",
    "    print(f\"name: {run.component.name}\")\n",
    "    print(f\"type: {run.type}\")\n",
    "    print(f\"display_name: {run.component.display_name}\")\n",
    "    print(f\"envType: {run.component.tags['envType']}\")\n",
    "    print(f\"compute: {run.compute}\")\n",
    "    print(f\"StartTimeUtc: {run.properties['StartTimeUtc']}\")\n",
    "    print(f\"EndTimeUtc: {run.properties['EndTimeUtc']}\")\n",
    "    print(f\"Job Duration (Seconds): {calc_job_duration(run.properties['StartTimeUtc'], run.properties['EndTimeUtc'])}\")"
   ]
  },
  {
   "cell_type": "markdown",
   "metadata": {},
   "source": [
    "## Prepare a list of jobs data relevant for costs"
   ]
  },
  {
   "cell_type": "code",
   "execution_count": 28,
   "metadata": {
    "tags": []
   },
   "outputs": [],
   "source": [
    "runs_list = []\n",
    "for run in runs:\n",
    "    if 'command' in run.type and 'envType' in run.component.tags:\n",
    "        job = dict(name=run.component.name, \n",
    "                 display_name=run.component.display_name, \n",
    "                 tag=run.component.tags['envType'],\n",
    "                 compute=run.compute,\n",
    "                 duration_sec=calc_job_duration(run.properties['StartTimeUtc'], run.properties['EndTimeUtc'])\n",
    "        )\n",
    "        \n",
    "        runs_list.append(job)"
   ]
  },
  {
   "cell_type": "code",
   "execution_count": 29,
   "metadata": {
    "tags": []
   },
   "outputs": [
    {
     "data": {
      "text/plain": [
       "39"
      ]
     },
     "execution_count": 29,
     "metadata": {},
     "output_type": "execute_result"
    }
   ],
   "source": [
    "len(runs_list)"
   ]
  },
  {
   "cell_type": "code",
   "execution_count": 30,
   "metadata": {
    "tags": []
   },
   "outputs": [
    {
     "data": {
      "text/plain": [
       "[{'name': 'dynamic_apple_3kpvlg1l83',\n",
       "  'display_name': 'diabetes-pythonv2-train',\n",
       "  'tag': 'test-env-1',\n",
       "  'compute': 'aml-cluster',\n",
       "  'duration_sec': 8},\n",
       " {'name': 'olden_fish_4q2vxwl4bh',\n",
       "  'display_name': 'diabetes-pythonv2-train',\n",
       "  'tag': 'test-env-1',\n",
       "  'compute': 'aml-cluster',\n",
       "  'duration_sec': 16},\n",
       " {'name': 'busy_arm_ml2zxk4rzb',\n",
       "  'display_name': 'diabetes-pythonv2-train',\n",
       "  'tag': 'test-env-1',\n",
       "  'compute': 'aml-cluster',\n",
       "  'duration_sec': 9},\n",
       " {'name': 'affable_window_nlp1l4vt7h',\n",
       "  'display_name': 'diabetes-pythonv2-train',\n",
       "  'tag': 'test-env-1',\n",
       "  'compute': 'aml-cluster',\n",
       "  'duration_sec': 9},\n",
       " {'name': 'tidy_vinegar_6x5hwk37jr',\n",
       "  'display_name': 'diabetes-pythonv2-train',\n",
       "  'tag': 'test-env-1',\n",
       "  'compute': 'aml-cluster',\n",
       "  'duration_sec': 8},\n",
       " {'name': 'icy_board_bhyg1zt02q',\n",
       "  'display_name': 'diabetes-pythonv2-train',\n",
       "  'tag': 'test-env-1',\n",
       "  'compute': 'aml-cluster',\n",
       "  'duration_sec': 9},\n",
       " {'name': 'icy_cat_1cfbrjrfxv',\n",
       "  'display_name': 'diabetes-pythonv2-train',\n",
       "  'tag': 'test-env-1',\n",
       "  'compute': 'aml-cluster',\n",
       "  'duration_sec': 9},\n",
       " {'name': 'loving_star_3l6thwgfd7',\n",
       "  'display_name': 'diabetes-pythonv2-train',\n",
       "  'tag': 'test-env-3',\n",
       "  'compute': 'aml-cluster',\n",
       "  'duration_sec': 9},\n",
       " {'name': 'frank_double_wp877r58sg',\n",
       "  'display_name': 'diabetes-pythonv2-train',\n",
       "  'tag': 'test-env-3',\n",
       "  'compute': 'aml-cluster',\n",
       "  'duration_sec': 9},\n",
       " {'name': 'ivory_bucket_8hpcsyscys',\n",
       "  'display_name': 'diabetes-pythonv2-train',\n",
       "  'tag': 'test-env-3',\n",
       "  'compute': 'aml-cluster',\n",
       "  'duration_sec': 10},\n",
       " {'name': 'nice_dolphin_cdr0pgtnpx',\n",
       "  'display_name': 'diabetes-pythonv2-train',\n",
       "  'tag': 'test-env-3',\n",
       "  'compute': 'aml-cluster',\n",
       "  'duration_sec': 10},\n",
       " {'name': 'helpful_stone_px7x5lc0xt',\n",
       "  'display_name': 'diabetes-pythonv2-train',\n",
       "  'tag': 'test-env-3',\n",
       "  'compute': 'aml-cluster',\n",
       "  'duration_sec': 10},\n",
       " {'name': 'keen_ice_xhxqdh96v6',\n",
       "  'display_name': 'diabetes-pythonv2-train',\n",
       "  'tag': 'test-env-3',\n",
       "  'compute': 'aml-cluster',\n",
       "  'duration_sec': 9},\n",
       " {'name': 'great_lamp_4mr99wht0c',\n",
       "  'display_name': 'diabetes-pythonv2-train',\n",
       "  'tag': 'test-env-3',\n",
       "  'compute': 'aml-cluster',\n",
       "  'duration_sec': 12},\n",
       " {'name': 'sharp_gyro_x2msfs95k4',\n",
       "  'display_name': 'diabetes-pythonv2-train',\n",
       "  'tag': 'test-env-3',\n",
       "  'compute': 'aml-cluster',\n",
       "  'duration_sec': 10},\n",
       " {'name': 'green_lamp_sbjjkp0xk0',\n",
       "  'display_name': 'diabetes-pythonv2-train',\n",
       "  'tag': 'test-env-3',\n",
       "  'compute': 'aml-cluster',\n",
       "  'duration_sec': 11},\n",
       " {'name': 'ivory_soursop_s60y7xsktp',\n",
       "  'display_name': 'diabetes-pythonv2-train',\n",
       "  'tag': 'test-env-3',\n",
       "  'compute': 'aml-cluster',\n",
       "  'duration_sec': 9},\n",
       " {'name': 'kind_bridge_q4flb8x4db',\n",
       "  'display_name': 'diabetes-pythonv2-train',\n",
       "  'tag': 'test-env-3',\n",
       "  'compute': 'aml-cluster',\n",
       "  'duration_sec': 10},\n",
       " {'name': 'upbeat_nest_g2k3s46tk4',\n",
       "  'display_name': 'diabetes-pythonv2-train',\n",
       "  'tag': 'test-env-3',\n",
       "  'compute': 'aml-cluster',\n",
       "  'duration_sec': 10},\n",
       " {'name': 'coral_spoon_xpc3vrnzbn',\n",
       "  'display_name': 'diabetes-pythonv2-train',\n",
       "  'tag': 'test-env-3',\n",
       "  'compute': 'aml-cluster',\n",
       "  'duration_sec': 9},\n",
       " {'name': 'nice_ship_35jhjvcx70',\n",
       "  'display_name': 'diabetes-pythonv2-train',\n",
       "  'tag': 'test-env-3',\n",
       "  'compute': 'aml-cluster',\n",
       "  'duration_sec': 73},\n",
       " {'name': 'good_lobster_5fbmlbf44z',\n",
       "  'display_name': 'diabetes-pythonv2-train',\n",
       "  'tag': 'test-env-3',\n",
       "  'compute': 'aml-cluster',\n",
       "  'duration_sec': 75},\n",
       " {'name': 'khaki_angle_5rhn16czbt',\n",
       "  'display_name': 'diabetes-pythonv2-train',\n",
       "  'tag': 'test-env-1',\n",
       "  'compute': 'aml-cluster',\n",
       "  'duration_sec': 10},\n",
       " {'name': 'brave_whistle_zxjxrdznl9',\n",
       "  'display_name': 'diabetes-pythonv2-train',\n",
       "  'tag': 'test-env-1',\n",
       "  'compute': 'aml-cluster',\n",
       "  'duration_sec': 8},\n",
       " {'name': 'epic_cumin_w4fp378rrt',\n",
       "  'display_name': 'diabetes-pythonv2-train',\n",
       "  'tag': 'test-env-1',\n",
       "  'compute': 'aml-cluster',\n",
       "  'duration_sec': 11},\n",
       " {'name': 'mighty_grass_fj2blkl4f1',\n",
       "  'display_name': 'diabetes-pythonv2-train',\n",
       "  'tag': 'test-env-3',\n",
       "  'compute': 'aml-cluster',\n",
       "  'duration_sec': 9},\n",
       " {'name': 'quirky_beach_92ssqn0rph',\n",
       "  'display_name': 'diabetes-pythonv2-train',\n",
       "  'tag': 'test-env-3',\n",
       "  'compute': 'aml-cluster',\n",
       "  'duration_sec': 86},\n",
       " {'name': 'happy_guitar_t7ql2xwbyh',\n",
       "  'display_name': 'diabetes-pythonv2-train',\n",
       "  'tag': 'test-env-3',\n",
       "  'compute': 'aml-cluster',\n",
       "  'duration_sec': 80},\n",
       " {'name': 'lucid_board_bzv5c70z1w',\n",
       "  'display_name': 'diabetes-pythonv2-train',\n",
       "  'tag': 'test-env-3',\n",
       "  'compute': 'aml-cluster',\n",
       "  'duration_sec': 10},\n",
       " {'name': 'keen_vase_594ckws370',\n",
       "  'display_name': 'diabetes-pythonv2-train',\n",
       "  'tag': 'test-env-3',\n",
       "  'compute': 'aml-cluster',\n",
       "  'duration_sec': 10},\n",
       " {'name': 'lucid_tiger_pkgs54hkj1',\n",
       "  'display_name': 'diabetes-pythonv2-train',\n",
       "  'tag': 'test-env-3',\n",
       "  'compute': 'aml-cluster',\n",
       "  'duration_sec': 10},\n",
       " {'name': 'jolly_foot_twwyrzw9zg',\n",
       "  'display_name': 'diabetes-pythonv2-train',\n",
       "  'tag': 'test-env-1',\n",
       "  'compute': 'aml-cluster',\n",
       "  'duration_sec': 9},\n",
       " {'name': 'mango_pen_bjd81wjjdp',\n",
       "  'display_name': 'diabetes-pythonv2-train',\n",
       "  'tag': 'test-env-1',\n",
       "  'compute': 'aml-cluster',\n",
       "  'duration_sec': 10},\n",
       " {'name': 'shy_battery_6b0259ms23',\n",
       "  'display_name': 'diabetes-pythonv2-train',\n",
       "  'tag': 'test-env-1',\n",
       "  'compute': 'aml-cluster',\n",
       "  'duration_sec': 10},\n",
       " {'name': 'helpful_ant_y1x4qp8gy9',\n",
       "  'display_name': 'diabetes-pythonv2-train',\n",
       "  'tag': 'test-env-2',\n",
       "  'compute': 'aml-cluster',\n",
       "  'duration_sec': 10},\n",
       " {'name': 'teal_worm_mfd6nn1cjc',\n",
       "  'display_name': 'diabetes-pythonv2-train',\n",
       "  'tag': 'test-env-2',\n",
       "  'compute': 'aml-cluster',\n",
       "  'duration_sec': 80},\n",
       " {'name': 'khaki_worm_15bxd9tthn',\n",
       "  'display_name': 'diabetes-pythonv2-train',\n",
       "  'tag': 'test-env-2',\n",
       "  'compute': 'aml-cluster',\n",
       "  'duration_sec': 127},\n",
       " {'name': 'magenta_rocket_9r0756mtpp',\n",
       "  'display_name': 'diabetes-pythonv2-train',\n",
       "  'tag': 'test-env-2',\n",
       "  'compute': 'aml-cluster',\n",
       "  'duration_sec': 11},\n",
       " {'name': 'willing_date_blr8hq48s0',\n",
       "  'display_name': 'diabetes-pythonv2-train',\n",
       "  'tag': 'test-env-1',\n",
       "  'compute': 'aml-cluster',\n",
       "  'duration_sec': 12}]"
      ]
     },
     "execution_count": 30,
     "metadata": {},
     "output_type": "execute_result"
    }
   ],
   "source": [
    "runs_list"
   ]
  },
  {
   "cell_type": "markdown",
   "metadata": {},
   "source": [
    "## Create a dataframe to help us calculate"
   ]
  },
  {
   "cell_type": "code",
   "execution_count": 31,
   "metadata": {
    "tags": []
   },
   "outputs": [],
   "source": [
    "import pandas as pd"
   ]
  },
  {
   "cell_type": "code",
   "execution_count": 32,
   "metadata": {
    "tags": []
   },
   "outputs": [],
   "source": [
    "df = pd.DataFrame(runs_list)"
   ]
  },
  {
   "cell_type": "code",
   "execution_count": 33,
   "metadata": {
    "tags": []
   },
   "outputs": [
    {
     "data": {
      "text/html": [
       "<div>\n",
       "<style scoped>\n",
       "    .dataframe tbody tr th:only-of-type {\n",
       "        vertical-align: middle;\n",
       "    }\n",
       "\n",
       "    .dataframe tbody tr th {\n",
       "        vertical-align: top;\n",
       "    }\n",
       "\n",
       "    .dataframe thead th {\n",
       "        text-align: right;\n",
       "    }\n",
       "</style>\n",
       "<table border=\"1\" class=\"dataframe\">\n",
       "  <thead>\n",
       "    <tr style=\"text-align: right;\">\n",
       "      <th></th>\n",
       "      <th>name</th>\n",
       "      <th>display_name</th>\n",
       "      <th>tag</th>\n",
       "      <th>compute</th>\n",
       "      <th>duration_sec</th>\n",
       "    </tr>\n",
       "  </thead>\n",
       "  <tbody>\n",
       "    <tr>\n",
       "      <th>0</th>\n",
       "      <td>dynamic_apple_3kpvlg1l83</td>\n",
       "      <td>diabetes-pythonv2-train</td>\n",
       "      <td>test-env-1</td>\n",
       "      <td>aml-cluster</td>\n",
       "      <td>8</td>\n",
       "    </tr>\n",
       "    <tr>\n",
       "      <th>1</th>\n",
       "      <td>olden_fish_4q2vxwl4bh</td>\n",
       "      <td>diabetes-pythonv2-train</td>\n",
       "      <td>test-env-1</td>\n",
       "      <td>aml-cluster</td>\n",
       "      <td>16</td>\n",
       "    </tr>\n",
       "    <tr>\n",
       "      <th>2</th>\n",
       "      <td>busy_arm_ml2zxk4rzb</td>\n",
       "      <td>diabetes-pythonv2-train</td>\n",
       "      <td>test-env-1</td>\n",
       "      <td>aml-cluster</td>\n",
       "      <td>9</td>\n",
       "    </tr>\n",
       "    <tr>\n",
       "      <th>3</th>\n",
       "      <td>affable_window_nlp1l4vt7h</td>\n",
       "      <td>diabetes-pythonv2-train</td>\n",
       "      <td>test-env-1</td>\n",
       "      <td>aml-cluster</td>\n",
       "      <td>9</td>\n",
       "    </tr>\n",
       "    <tr>\n",
       "      <th>4</th>\n",
       "      <td>tidy_vinegar_6x5hwk37jr</td>\n",
       "      <td>diabetes-pythonv2-train</td>\n",
       "      <td>test-env-1</td>\n",
       "      <td>aml-cluster</td>\n",
       "      <td>8</td>\n",
       "    </tr>\n",
       "    <tr>\n",
       "      <th>5</th>\n",
       "      <td>icy_board_bhyg1zt02q</td>\n",
       "      <td>diabetes-pythonv2-train</td>\n",
       "      <td>test-env-1</td>\n",
       "      <td>aml-cluster</td>\n",
       "      <td>9</td>\n",
       "    </tr>\n",
       "    <tr>\n",
       "      <th>6</th>\n",
       "      <td>icy_cat_1cfbrjrfxv</td>\n",
       "      <td>diabetes-pythonv2-train</td>\n",
       "      <td>test-env-1</td>\n",
       "      <td>aml-cluster</td>\n",
       "      <td>9</td>\n",
       "    </tr>\n",
       "    <tr>\n",
       "      <th>7</th>\n",
       "      <td>loving_star_3l6thwgfd7</td>\n",
       "      <td>diabetes-pythonv2-train</td>\n",
       "      <td>test-env-3</td>\n",
       "      <td>aml-cluster</td>\n",
       "      <td>9</td>\n",
       "    </tr>\n",
       "    <tr>\n",
       "      <th>8</th>\n",
       "      <td>frank_double_wp877r58sg</td>\n",
       "      <td>diabetes-pythonv2-train</td>\n",
       "      <td>test-env-3</td>\n",
       "      <td>aml-cluster</td>\n",
       "      <td>9</td>\n",
       "    </tr>\n",
       "    <tr>\n",
       "      <th>9</th>\n",
       "      <td>ivory_bucket_8hpcsyscys</td>\n",
       "      <td>diabetes-pythonv2-train</td>\n",
       "      <td>test-env-3</td>\n",
       "      <td>aml-cluster</td>\n",
       "      <td>10</td>\n",
       "    </tr>\n",
       "    <tr>\n",
       "      <th>10</th>\n",
       "      <td>nice_dolphin_cdr0pgtnpx</td>\n",
       "      <td>diabetes-pythonv2-train</td>\n",
       "      <td>test-env-3</td>\n",
       "      <td>aml-cluster</td>\n",
       "      <td>10</td>\n",
       "    </tr>\n",
       "    <tr>\n",
       "      <th>11</th>\n",
       "      <td>helpful_stone_px7x5lc0xt</td>\n",
       "      <td>diabetes-pythonv2-train</td>\n",
       "      <td>test-env-3</td>\n",
       "      <td>aml-cluster</td>\n",
       "      <td>10</td>\n",
       "    </tr>\n",
       "    <tr>\n",
       "      <th>12</th>\n",
       "      <td>keen_ice_xhxqdh96v6</td>\n",
       "      <td>diabetes-pythonv2-train</td>\n",
       "      <td>test-env-3</td>\n",
       "      <td>aml-cluster</td>\n",
       "      <td>9</td>\n",
       "    </tr>\n",
       "    <tr>\n",
       "      <th>13</th>\n",
       "      <td>great_lamp_4mr99wht0c</td>\n",
       "      <td>diabetes-pythonv2-train</td>\n",
       "      <td>test-env-3</td>\n",
       "      <td>aml-cluster</td>\n",
       "      <td>12</td>\n",
       "    </tr>\n",
       "    <tr>\n",
       "      <th>14</th>\n",
       "      <td>sharp_gyro_x2msfs95k4</td>\n",
       "      <td>diabetes-pythonv2-train</td>\n",
       "      <td>test-env-3</td>\n",
       "      <td>aml-cluster</td>\n",
       "      <td>10</td>\n",
       "    </tr>\n",
       "    <tr>\n",
       "      <th>15</th>\n",
       "      <td>green_lamp_sbjjkp0xk0</td>\n",
       "      <td>diabetes-pythonv2-train</td>\n",
       "      <td>test-env-3</td>\n",
       "      <td>aml-cluster</td>\n",
       "      <td>11</td>\n",
       "    </tr>\n",
       "    <tr>\n",
       "      <th>16</th>\n",
       "      <td>ivory_soursop_s60y7xsktp</td>\n",
       "      <td>diabetes-pythonv2-train</td>\n",
       "      <td>test-env-3</td>\n",
       "      <td>aml-cluster</td>\n",
       "      <td>9</td>\n",
       "    </tr>\n",
       "    <tr>\n",
       "      <th>17</th>\n",
       "      <td>kind_bridge_q4flb8x4db</td>\n",
       "      <td>diabetes-pythonv2-train</td>\n",
       "      <td>test-env-3</td>\n",
       "      <td>aml-cluster</td>\n",
       "      <td>10</td>\n",
       "    </tr>\n",
       "    <tr>\n",
       "      <th>18</th>\n",
       "      <td>upbeat_nest_g2k3s46tk4</td>\n",
       "      <td>diabetes-pythonv2-train</td>\n",
       "      <td>test-env-3</td>\n",
       "      <td>aml-cluster</td>\n",
       "      <td>10</td>\n",
       "    </tr>\n",
       "    <tr>\n",
       "      <th>19</th>\n",
       "      <td>coral_spoon_xpc3vrnzbn</td>\n",
       "      <td>diabetes-pythonv2-train</td>\n",
       "      <td>test-env-3</td>\n",
       "      <td>aml-cluster</td>\n",
       "      <td>9</td>\n",
       "    </tr>\n",
       "    <tr>\n",
       "      <th>20</th>\n",
       "      <td>nice_ship_35jhjvcx70</td>\n",
       "      <td>diabetes-pythonv2-train</td>\n",
       "      <td>test-env-3</td>\n",
       "      <td>aml-cluster</td>\n",
       "      <td>73</td>\n",
       "    </tr>\n",
       "    <tr>\n",
       "      <th>21</th>\n",
       "      <td>good_lobster_5fbmlbf44z</td>\n",
       "      <td>diabetes-pythonv2-train</td>\n",
       "      <td>test-env-3</td>\n",
       "      <td>aml-cluster</td>\n",
       "      <td>75</td>\n",
       "    </tr>\n",
       "    <tr>\n",
       "      <th>22</th>\n",
       "      <td>khaki_angle_5rhn16czbt</td>\n",
       "      <td>diabetes-pythonv2-train</td>\n",
       "      <td>test-env-1</td>\n",
       "      <td>aml-cluster</td>\n",
       "      <td>10</td>\n",
       "    </tr>\n",
       "    <tr>\n",
       "      <th>23</th>\n",
       "      <td>brave_whistle_zxjxrdznl9</td>\n",
       "      <td>diabetes-pythonv2-train</td>\n",
       "      <td>test-env-1</td>\n",
       "      <td>aml-cluster</td>\n",
       "      <td>8</td>\n",
       "    </tr>\n",
       "    <tr>\n",
       "      <th>24</th>\n",
       "      <td>epic_cumin_w4fp378rrt</td>\n",
       "      <td>diabetes-pythonv2-train</td>\n",
       "      <td>test-env-1</td>\n",
       "      <td>aml-cluster</td>\n",
       "      <td>11</td>\n",
       "    </tr>\n",
       "    <tr>\n",
       "      <th>25</th>\n",
       "      <td>mighty_grass_fj2blkl4f1</td>\n",
       "      <td>diabetes-pythonv2-train</td>\n",
       "      <td>test-env-3</td>\n",
       "      <td>aml-cluster</td>\n",
       "      <td>9</td>\n",
       "    </tr>\n",
       "    <tr>\n",
       "      <th>26</th>\n",
       "      <td>quirky_beach_92ssqn0rph</td>\n",
       "      <td>diabetes-pythonv2-train</td>\n",
       "      <td>test-env-3</td>\n",
       "      <td>aml-cluster</td>\n",
       "      <td>86</td>\n",
       "    </tr>\n",
       "    <tr>\n",
       "      <th>27</th>\n",
       "      <td>happy_guitar_t7ql2xwbyh</td>\n",
       "      <td>diabetes-pythonv2-train</td>\n",
       "      <td>test-env-3</td>\n",
       "      <td>aml-cluster</td>\n",
       "      <td>80</td>\n",
       "    </tr>\n",
       "    <tr>\n",
       "      <th>28</th>\n",
       "      <td>lucid_board_bzv5c70z1w</td>\n",
       "      <td>diabetes-pythonv2-train</td>\n",
       "      <td>test-env-3</td>\n",
       "      <td>aml-cluster</td>\n",
       "      <td>10</td>\n",
       "    </tr>\n",
       "    <tr>\n",
       "      <th>29</th>\n",
       "      <td>keen_vase_594ckws370</td>\n",
       "      <td>diabetes-pythonv2-train</td>\n",
       "      <td>test-env-3</td>\n",
       "      <td>aml-cluster</td>\n",
       "      <td>10</td>\n",
       "    </tr>\n",
       "    <tr>\n",
       "      <th>30</th>\n",
       "      <td>lucid_tiger_pkgs54hkj1</td>\n",
       "      <td>diabetes-pythonv2-train</td>\n",
       "      <td>test-env-3</td>\n",
       "      <td>aml-cluster</td>\n",
       "      <td>10</td>\n",
       "    </tr>\n",
       "    <tr>\n",
       "      <th>31</th>\n",
       "      <td>jolly_foot_twwyrzw9zg</td>\n",
       "      <td>diabetes-pythonv2-train</td>\n",
       "      <td>test-env-1</td>\n",
       "      <td>aml-cluster</td>\n",
       "      <td>9</td>\n",
       "    </tr>\n",
       "    <tr>\n",
       "      <th>32</th>\n",
       "      <td>mango_pen_bjd81wjjdp</td>\n",
       "      <td>diabetes-pythonv2-train</td>\n",
       "      <td>test-env-1</td>\n",
       "      <td>aml-cluster</td>\n",
       "      <td>10</td>\n",
       "    </tr>\n",
       "    <tr>\n",
       "      <th>33</th>\n",
       "      <td>shy_battery_6b0259ms23</td>\n",
       "      <td>diabetes-pythonv2-train</td>\n",
       "      <td>test-env-1</td>\n",
       "      <td>aml-cluster</td>\n",
       "      <td>10</td>\n",
       "    </tr>\n",
       "    <tr>\n",
       "      <th>34</th>\n",
       "      <td>helpful_ant_y1x4qp8gy9</td>\n",
       "      <td>diabetes-pythonv2-train</td>\n",
       "      <td>test-env-2</td>\n",
       "      <td>aml-cluster</td>\n",
       "      <td>10</td>\n",
       "    </tr>\n",
       "    <tr>\n",
       "      <th>35</th>\n",
       "      <td>teal_worm_mfd6nn1cjc</td>\n",
       "      <td>diabetes-pythonv2-train</td>\n",
       "      <td>test-env-2</td>\n",
       "      <td>aml-cluster</td>\n",
       "      <td>80</td>\n",
       "    </tr>\n",
       "    <tr>\n",
       "      <th>36</th>\n",
       "      <td>khaki_worm_15bxd9tthn</td>\n",
       "      <td>diabetes-pythonv2-train</td>\n",
       "      <td>test-env-2</td>\n",
       "      <td>aml-cluster</td>\n",
       "      <td>127</td>\n",
       "    </tr>\n",
       "    <tr>\n",
       "      <th>37</th>\n",
       "      <td>magenta_rocket_9r0756mtpp</td>\n",
       "      <td>diabetes-pythonv2-train</td>\n",
       "      <td>test-env-2</td>\n",
       "      <td>aml-cluster</td>\n",
       "      <td>11</td>\n",
       "    </tr>\n",
       "    <tr>\n",
       "      <th>38</th>\n",
       "      <td>willing_date_blr8hq48s0</td>\n",
       "      <td>diabetes-pythonv2-train</td>\n",
       "      <td>test-env-1</td>\n",
       "      <td>aml-cluster</td>\n",
       "      <td>12</td>\n",
       "    </tr>\n",
       "  </tbody>\n",
       "</table>\n",
       "</div>"
      ],
      "text/plain": [
       "                         name             display_name         tag  \\\n",
       "0    dynamic_apple_3kpvlg1l83  diabetes-pythonv2-train  test-env-1   \n",
       "1       olden_fish_4q2vxwl4bh  diabetes-pythonv2-train  test-env-1   \n",
       "2         busy_arm_ml2zxk4rzb  diabetes-pythonv2-train  test-env-1   \n",
       "3   affable_window_nlp1l4vt7h  diabetes-pythonv2-train  test-env-1   \n",
       "4     tidy_vinegar_6x5hwk37jr  diabetes-pythonv2-train  test-env-1   \n",
       "5        icy_board_bhyg1zt02q  diabetes-pythonv2-train  test-env-1   \n",
       "6          icy_cat_1cfbrjrfxv  diabetes-pythonv2-train  test-env-1   \n",
       "7      loving_star_3l6thwgfd7  diabetes-pythonv2-train  test-env-3   \n",
       "8     frank_double_wp877r58sg  diabetes-pythonv2-train  test-env-3   \n",
       "9     ivory_bucket_8hpcsyscys  diabetes-pythonv2-train  test-env-3   \n",
       "10    nice_dolphin_cdr0pgtnpx  diabetes-pythonv2-train  test-env-3   \n",
       "11   helpful_stone_px7x5lc0xt  diabetes-pythonv2-train  test-env-3   \n",
       "12        keen_ice_xhxqdh96v6  diabetes-pythonv2-train  test-env-3   \n",
       "13      great_lamp_4mr99wht0c  diabetes-pythonv2-train  test-env-3   \n",
       "14      sharp_gyro_x2msfs95k4  diabetes-pythonv2-train  test-env-3   \n",
       "15      green_lamp_sbjjkp0xk0  diabetes-pythonv2-train  test-env-3   \n",
       "16   ivory_soursop_s60y7xsktp  diabetes-pythonv2-train  test-env-3   \n",
       "17     kind_bridge_q4flb8x4db  diabetes-pythonv2-train  test-env-3   \n",
       "18     upbeat_nest_g2k3s46tk4  diabetes-pythonv2-train  test-env-3   \n",
       "19     coral_spoon_xpc3vrnzbn  diabetes-pythonv2-train  test-env-3   \n",
       "20       nice_ship_35jhjvcx70  diabetes-pythonv2-train  test-env-3   \n",
       "21    good_lobster_5fbmlbf44z  diabetes-pythonv2-train  test-env-3   \n",
       "22     khaki_angle_5rhn16czbt  diabetes-pythonv2-train  test-env-1   \n",
       "23   brave_whistle_zxjxrdznl9  diabetes-pythonv2-train  test-env-1   \n",
       "24      epic_cumin_w4fp378rrt  diabetes-pythonv2-train  test-env-1   \n",
       "25    mighty_grass_fj2blkl4f1  diabetes-pythonv2-train  test-env-3   \n",
       "26    quirky_beach_92ssqn0rph  diabetes-pythonv2-train  test-env-3   \n",
       "27    happy_guitar_t7ql2xwbyh  diabetes-pythonv2-train  test-env-3   \n",
       "28     lucid_board_bzv5c70z1w  diabetes-pythonv2-train  test-env-3   \n",
       "29       keen_vase_594ckws370  diabetes-pythonv2-train  test-env-3   \n",
       "30     lucid_tiger_pkgs54hkj1  diabetes-pythonv2-train  test-env-3   \n",
       "31      jolly_foot_twwyrzw9zg  diabetes-pythonv2-train  test-env-1   \n",
       "32       mango_pen_bjd81wjjdp  diabetes-pythonv2-train  test-env-1   \n",
       "33     shy_battery_6b0259ms23  diabetes-pythonv2-train  test-env-1   \n",
       "34     helpful_ant_y1x4qp8gy9  diabetes-pythonv2-train  test-env-2   \n",
       "35       teal_worm_mfd6nn1cjc  diabetes-pythonv2-train  test-env-2   \n",
       "36      khaki_worm_15bxd9tthn  diabetes-pythonv2-train  test-env-2   \n",
       "37  magenta_rocket_9r0756mtpp  diabetes-pythonv2-train  test-env-2   \n",
       "38    willing_date_blr8hq48s0  diabetes-pythonv2-train  test-env-1   \n",
       "\n",
       "        compute  duration_sec  \n",
       "0   aml-cluster             8  \n",
       "1   aml-cluster            16  \n",
       "2   aml-cluster             9  \n",
       "3   aml-cluster             9  \n",
       "4   aml-cluster             8  \n",
       "5   aml-cluster             9  \n",
       "6   aml-cluster             9  \n",
       "7   aml-cluster             9  \n",
       "8   aml-cluster             9  \n",
       "9   aml-cluster            10  \n",
       "10  aml-cluster            10  \n",
       "11  aml-cluster            10  \n",
       "12  aml-cluster             9  \n",
       "13  aml-cluster            12  \n",
       "14  aml-cluster            10  \n",
       "15  aml-cluster            11  \n",
       "16  aml-cluster             9  \n",
       "17  aml-cluster            10  \n",
       "18  aml-cluster            10  \n",
       "19  aml-cluster             9  \n",
       "20  aml-cluster            73  \n",
       "21  aml-cluster            75  \n",
       "22  aml-cluster            10  \n",
       "23  aml-cluster             8  \n",
       "24  aml-cluster            11  \n",
       "25  aml-cluster             9  \n",
       "26  aml-cluster            86  \n",
       "27  aml-cluster            80  \n",
       "28  aml-cluster            10  \n",
       "29  aml-cluster            10  \n",
       "30  aml-cluster            10  \n",
       "31  aml-cluster             9  \n",
       "32  aml-cluster            10  \n",
       "33  aml-cluster            10  \n",
       "34  aml-cluster            10  \n",
       "35  aml-cluster            80  \n",
       "36  aml-cluster           127  \n",
       "37  aml-cluster            11  \n",
       "38  aml-cluster            12  "
      ]
     },
     "execution_count": 33,
     "metadata": {},
     "output_type": "execute_result"
    }
   ],
   "source": [
    "df"
   ]
  },
  {
   "cell_type": "code",
   "execution_count": 34,
   "metadata": {
    "tags": []
   },
   "outputs": [
    {
     "data": {
      "text/html": [
       "<div>\n",
       "<style scoped>\n",
       "    .dataframe tbody tr th:only-of-type {\n",
       "        vertical-align: middle;\n",
       "    }\n",
       "\n",
       "    .dataframe tbody tr th {\n",
       "        vertical-align: top;\n",
       "    }\n",
       "\n",
       "    .dataframe thead th {\n",
       "        text-align: right;\n",
       "    }\n",
       "</style>\n",
       "<table border=\"1\" class=\"dataframe\">\n",
       "  <thead>\n",
       "    <tr style=\"text-align: right;\">\n",
       "      <th></th>\n",
       "      <th>tag</th>\n",
       "      <th>name</th>\n",
       "      <th>display_name</th>\n",
       "      <th>compute</th>\n",
       "      <th>duration_sec</th>\n",
       "    </tr>\n",
       "  </thead>\n",
       "  <tbody>\n",
       "    <tr>\n",
       "      <th>0</th>\n",
       "      <td>test-env-1</td>\n",
       "      <td>dynamic_apple_3kpvlg1l83olden_fish_4q2vxwl4bhb...</td>\n",
       "      <td>diabetes-pythonv2-traindiabetes-pythonv2-train...</td>\n",
       "      <td>aml-clusteraml-clusteraml-clusteraml-clusteram...</td>\n",
       "      <td>138</td>\n",
       "    </tr>\n",
       "    <tr>\n",
       "      <th>1</th>\n",
       "      <td>test-env-2</td>\n",
       "      <td>helpful_ant_y1x4qp8gy9teal_worm_mfd6nn1cjckhak...</td>\n",
       "      <td>diabetes-pythonv2-traindiabetes-pythonv2-train...</td>\n",
       "      <td>aml-clusteraml-clusteraml-clusteraml-cluster</td>\n",
       "      <td>228</td>\n",
       "    </tr>\n",
       "    <tr>\n",
       "      <th>2</th>\n",
       "      <td>test-env-3</td>\n",
       "      <td>loving_star_3l6thwgfd7frank_double_wp877r58sgi...</td>\n",
       "      <td>diabetes-pythonv2-traindiabetes-pythonv2-train...</td>\n",
       "      <td>aml-clusteraml-clusteraml-clusteraml-clusteram...</td>\n",
       "      <td>481</td>\n",
       "    </tr>\n",
       "  </tbody>\n",
       "</table>\n",
       "</div>"
      ],
      "text/plain": [
       "          tag                                               name  \\\n",
       "0  test-env-1  dynamic_apple_3kpvlg1l83olden_fish_4q2vxwl4bhb...   \n",
       "1  test-env-2  helpful_ant_y1x4qp8gy9teal_worm_mfd6nn1cjckhak...   \n",
       "2  test-env-3  loving_star_3l6thwgfd7frank_double_wp877r58sgi...   \n",
       "\n",
       "                                        display_name  \\\n",
       "0  diabetes-pythonv2-traindiabetes-pythonv2-train...   \n",
       "1  diabetes-pythonv2-traindiabetes-pythonv2-train...   \n",
       "2  diabetes-pythonv2-traindiabetes-pythonv2-train...   \n",
       "\n",
       "                                             compute  duration_sec  \n",
       "0  aml-clusteraml-clusteraml-clusteraml-clusteram...           138  \n",
       "1       aml-clusteraml-clusteraml-clusteraml-cluster           228  \n",
       "2  aml-clusteraml-clusteraml-clusteraml-clusteram...           481  "
      ]
     },
     "execution_count": 34,
     "metadata": {},
     "output_type": "execute_result"
    }
   ],
   "source": [
    "totals_df = df.groupby(['tag']).sum()\n",
    "totals_df = totals_df.reset_index()\n",
    "totals_df"
   ]
  },
  {
   "cell_type": "markdown",
   "metadata": {},
   "source": [
    "## Total seconds per Tag"
   ]
  },
  {
   "cell_type": "code",
   "execution_count": 35,
   "metadata": {
    "tags": []
   },
   "outputs": [
    {
     "data": {
      "text/html": [
       "<div>\n",
       "<style scoped>\n",
       "    .dataframe tbody tr th:only-of-type {\n",
       "        vertical-align: middle;\n",
       "    }\n",
       "\n",
       "    .dataframe tbody tr th {\n",
       "        vertical-align: top;\n",
       "    }\n",
       "\n",
       "    .dataframe thead th {\n",
       "        text-align: right;\n",
       "    }\n",
       "</style>\n",
       "<table border=\"1\" class=\"dataframe\">\n",
       "  <thead>\n",
       "    <tr style=\"text-align: right;\">\n",
       "      <th></th>\n",
       "      <th>tag</th>\n",
       "      <th>duration_sec</th>\n",
       "    </tr>\n",
       "  </thead>\n",
       "  <tbody>\n",
       "    <tr>\n",
       "      <th>0</th>\n",
       "      <td>test-env-1</td>\n",
       "      <td>138</td>\n",
       "    </tr>\n",
       "    <tr>\n",
       "      <th>1</th>\n",
       "      <td>test-env-2</td>\n",
       "      <td>228</td>\n",
       "    </tr>\n",
       "    <tr>\n",
       "      <th>2</th>\n",
       "      <td>test-env-3</td>\n",
       "      <td>481</td>\n",
       "    </tr>\n",
       "  </tbody>\n",
       "</table>\n",
       "</div>"
      ],
      "text/plain": [
       "          tag  duration_sec\n",
       "0  test-env-1           138\n",
       "1  test-env-2           228\n",
       "2  test-env-3           481"
      ]
     },
     "execution_count": 35,
     "metadata": {},
     "output_type": "execute_result"
    }
   ],
   "source": [
    "totals_df[['tag','duration_sec']] "
   ]
  },
  {
   "cell_type": "code",
   "execution_count": 36,
   "metadata": {
    "tags": []
   },
   "outputs": [],
   "source": [
    "COMPUTE_CLUSER_NAME = \"aml-cluster\""
   ]
  },
  {
   "cell_type": "code",
   "execution_count": 37,
   "metadata": {
    "tags": []
   },
   "outputs": [],
   "source": [
    "compute_obj = ml_client.compute.get(COMPUTE_CLUSER_NAME)"
   ]
  },
  {
   "cell_type": "code",
   "execution_count": 38,
   "metadata": {
    "tags": []
   },
   "outputs": [
    {
     "data": {
      "text/plain": [
       "AmlCompute({'type': 'amlcompute', 'created_on': None, 'provisioning_state': 'Succeeded', 'provisioning_errors': None, 'name': 'aml-cluster', 'description': None, 'tags': None, 'properties': {}, 'print_as_yaml': False, 'id': '/subscriptions/a647c11c-fe4c-43c4-b672-963b71adab36/resourceGroups/my-machine-learning-rg-eastus2-112024/providers/Microsoft.MachineLearningServices/workspaces/my-azure-ml-ws-eastus2-112024/computes/aml-cluster', 'Resource__source_path': '', 'base_path': '/mnt/batch/tasks/shared/LS_root/mounts/clusters/compute-instance-cpu-1a/code/eitansela-azureml-examples/cost_calculator', 'creation_context': None, 'serialize': <msrest.serialization.Serializer object at 0x7f18a621f340>, 'resource_id': None, 'location': 'eastus2', 'size': 'Standard_DS3_v2', 'min_instances': 0, 'max_instances': 2, 'idle_time_before_scale_down': 600.0, 'identity': None, 'ssh_public_access_enabled': True, 'ssh_settings': <azure.ai.ml.entities._compute.aml_compute.AmlComputeSshSettings object at 0x7f18d83b7af0>, 'network_settings': None, 'tier': 'dedicated', 'enable_node_public_ip': True, 'subnet': None})"
      ]
     },
     "execution_count": 38,
     "metadata": {},
     "output_type": "execute_result"
    }
   ],
   "source": [
    "compute_obj"
   ]
  },
  {
   "cell_type": "code",
   "execution_count": 39,
   "metadata": {
    "tags": []
   },
   "outputs": [
    {
     "data": {
      "text/plain": [
       "('Standard_DS3_v2', 'eastus2')"
      ]
     },
     "execution_count": 39,
     "metadata": {},
     "output_type": "execute_result"
    }
   ],
   "source": [
    "compute_obj.size, compute_obj.location"
   ]
  },
  {
   "cell_type": "markdown",
   "metadata": {},
   "source": [
    "## Azure Retail Prices API"
   ]
  },
  {
   "cell_type": "code",
   "execution_count": 63,
   "metadata": {
    "tags": []
   },
   "outputs": [
    {
     "data": {
      "text/plain": [
       "{'BillingCurrency': 'USD',\n",
       " 'CustomerEntityId': 'Default',\n",
       " 'CustomerEntityType': 'Retail',\n",
       " 'Items': [{'currencyCode': 'USD',\n",
       "   'tierMinimumUnits': 0.0,\n",
       "   'retailPrice': 0.229,\n",
       "   'unitPrice': 0.229,\n",
       "   'armRegionName': 'eastus2',\n",
       "   'location': 'US East 2',\n",
       "   'effectiveStartDate': '2016-09-01T00:00:00Z',\n",
       "   'meterId': '51b394a1-a487-4d04-883b-a38c04b1d9eb',\n",
       "   'meterName': 'DS3 v2',\n",
       "   'productId': 'DZH318Z0BQ4C',\n",
       "   'skuId': 'DZH318Z0BQ4C/015F',\n",
       "   'productName': 'Virtual Machines DSv2 Series',\n",
       "   'skuName': 'DS3 v2',\n",
       "   'serviceName': 'Virtual Machines',\n",
       "   'serviceId': 'DZH313Z7MMC8',\n",
       "   'serviceFamily': 'Compute',\n",
       "   'unitOfMeasure': '1 Hour',\n",
       "   'type': 'Consumption',\n",
       "   'isPrimaryMeterRegion': False,\n",
       "   'armSkuName': 'Standard_DS3_v2'}],\n",
       " 'NextPageLink': None,\n",
       " 'Count': 1}"
      ]
     },
     "execution_count": 63,
     "metadata": {},
     "output_type": "execute_result"
    }
   ],
   "source": [
    "import requests\n",
    "import json\n",
    "\n",
    "api_url = \"https://prices.azure.com/api/retail/prices?api-version=2021-10-01-preview\"\n",
    "query = \"armRegionName eq '\"+compute_obj.location+\"' and armSkuName eq '\"+compute_obj.size+\"' \" + \\\n",
    "        \"and priceType eq 'Consumption' \"+ \\\n",
    "        \"and contains(meterName, 'Spot') eq false \" + \\\n",
    "        \"and contains(meterName, 'Low Priority') eq false \" + \\\n",
    "        \"and contains(productName, 'Windows') eq false \"\n",
    "response = requests.get(api_url, params={'$filter': query})\n",
    "json_data = json.loads(response.text)\n",
    "json_data"
   ]
  },
  {
   "cell_type": "markdown",
   "metadata": {},
   "source": [
    "## Price per hour"
   ]
  },
  {
   "cell_type": "code",
   "execution_count": 64,
   "metadata": {
    "tags": []
   },
   "outputs": [
    {
     "data": {
      "text/plain": [
       "0.229"
      ]
     },
     "execution_count": 64,
     "metadata": {},
     "output_type": "execute_result"
    }
   ],
   "source": [
    "json_data[\"Items\"][0][\"retailPrice\"]"
   ]
  },
  {
   "cell_type": "code",
   "execution_count": 65,
   "metadata": {
    "tags": []
   },
   "outputs": [],
   "source": [
    "def calculate_price(price_per_hour, seconds):\n",
    "    price = price_per_hour*seconds/3600\n",
    "    return(price)"
   ]
  },
  {
   "cell_type": "markdown",
   "metadata": {},
   "source": [
    "## Calculate total prices per Tag"
   ]
  },
  {
   "cell_type": "code",
   "execution_count": 67,
   "metadata": {
    "tags": []
   },
   "outputs": [],
   "source": [
    "totals_df['total_price'] = totals_df.apply(lambda x: calculate_price(json_data[\"Items\"][0][\"retailPrice\"], x['duration_sec']), axis=1)"
   ]
  },
  {
   "cell_type": "code",
   "execution_count": 68,
   "metadata": {
    "tags": []
   },
   "outputs": [
    {
     "data": {
      "text/html": [
       "<div>\n",
       "<style scoped>\n",
       "    .dataframe tbody tr th:only-of-type {\n",
       "        vertical-align: middle;\n",
       "    }\n",
       "\n",
       "    .dataframe tbody tr th {\n",
       "        vertical-align: top;\n",
       "    }\n",
       "\n",
       "    .dataframe thead th {\n",
       "        text-align: right;\n",
       "    }\n",
       "</style>\n",
       "<table border=\"1\" class=\"dataframe\">\n",
       "  <thead>\n",
       "    <tr style=\"text-align: right;\">\n",
       "      <th></th>\n",
       "      <th>tag</th>\n",
       "      <th>duration_sec</th>\n",
       "      <th>total_price</th>\n",
       "    </tr>\n",
       "  </thead>\n",
       "  <tbody>\n",
       "    <tr>\n",
       "      <th>0</th>\n",
       "      <td>test-env-1</td>\n",
       "      <td>138</td>\n",
       "      <td>0.008778</td>\n",
       "    </tr>\n",
       "    <tr>\n",
       "      <th>1</th>\n",
       "      <td>test-env-2</td>\n",
       "      <td>228</td>\n",
       "      <td>0.014503</td>\n",
       "    </tr>\n",
       "    <tr>\n",
       "      <th>2</th>\n",
       "      <td>test-env-3</td>\n",
       "      <td>481</td>\n",
       "      <td>0.030597</td>\n",
       "    </tr>\n",
       "  </tbody>\n",
       "</table>\n",
       "</div>"
      ],
      "text/plain": [
       "          tag  duration_sec  total_price\n",
       "0  test-env-1           138     0.008778\n",
       "1  test-env-2           228     0.014503\n",
       "2  test-env-3           481     0.030597"
      ]
     },
     "execution_count": 68,
     "metadata": {},
     "output_type": "execute_result"
    }
   ],
   "source": [
    "totals_df[['tag', 'duration_sec', 'total_price']] "
   ]
  },
  {
   "cell_type": "code",
   "execution_count": null,
   "metadata": {},
   "outputs": [],
   "source": []
  }
 ],
 "metadata": {
  "kernel_info": {
   "name": "python38-azureml"
  },
  "kernelspec": {
   "display_name": "Python 3 (ipykernel)",
   "language": "python",
   "name": "python3"
  },
  "language_info": {
   "codemirror_mode": {
    "name": "ipython",
    "version": 3
   },
   "file_extension": ".py",
   "mimetype": "text/x-python",
   "name": "python",
   "nbconvert_exporter": "python",
   "pygments_lexer": "ipython3",
   "version": "3.10.11"
  },
  "microsoft": {
   "host": {
    "AzureML": {
     "notebookHasBeenCompleted": true
    }
   }
  },
  "nteract": {
   "version": "nteract-front-end@1.0.0"
  },
  "vscode": {
   "interpreter": {
    "hash": "f2b2cd046deda8eabef1e765a11d0ec9aa9bd1d31d56ce79c815a38c323e14ec"
   }
  }
 },
 "nbformat": 4,
 "nbformat_minor": 4
}
